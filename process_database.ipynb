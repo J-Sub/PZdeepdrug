{
 "cells": [
  {
   "cell_type": "code",
   "execution_count": 1,
   "metadata": {},
   "outputs": [],
   "source": [
    "import pandas as pd\n",
    "import numpy as np\n",
    "from tqdm import tqdm"
   ]
  },
  {
   "cell_type": "markdown",
   "metadata": {},
   "source": [
    "DCDB - Drug Combination Database"
   ]
  },
  {
   "cell_type": "code",
   "execution_count": 2,
   "metadata": {},
   "outputs": [],
   "source": [
    "dcdb = pd.read_csv('raw_database/dcdb.txt', sep='\\t')\n",
    "dcdb_id = pd.read_csv('raw_database/dcdb_components_identifier.txt', sep='\\t')\n",
    "dc2dcu = pd.read_csv('raw_database/DC_TO_DCU.txt', sep='\\t')\n",
    "dcu_usage = pd.read_csv('raw_database/DC_USAGE.txt', sep='\\t')"
   ]
  },
  {
   "cell_type": "code",
   "execution_count": 3,
   "metadata": {},
   "outputs": [
    {
     "name": "stdout",
     "output_type": "stream",
     "text": [
      "1363\n"
     ]
    },
    {
     "data": {
      "text/html": [
       "<div>\n",
       "<style scoped>\n",
       "    .dataframe tbody tr th:only-of-type {\n",
       "        vertical-align: middle;\n",
       "    }\n",
       "\n",
       "    .dataframe tbody tr th {\n",
       "        vertical-align: top;\n",
       "    }\n",
       "\n",
       "    .dataframe thead th {\n",
       "        text-align: right;\n",
       "    }\n",
       "</style>\n",
       "<table border=\"1\" class=\"dataframe\">\n",
       "  <thead>\n",
       "    <tr style=\"text-align: right;\">\n",
       "      <th></th>\n",
       "      <th>DrugCombination_ID</th>\n",
       "      <th>Components_Name</th>\n",
       "      <th>Componets_ID</th>\n",
       "    </tr>\n",
       "  </thead>\n",
       "  <tbody>\n",
       "    <tr>\n",
       "      <th>0</th>\n",
       "      <td>DC000348</td>\n",
       "      <td>Bismuth Subsalicylate; Metronidazole; Tetracyc...</td>\n",
       "      <td>DCC0187/DCC0235/DCC0338</td>\n",
       "    </tr>\n",
       "    <tr>\n",
       "      <th>1</th>\n",
       "      <td>DC000349</td>\n",
       "      <td>Brimonidine; Timolol</td>\n",
       "      <td>DCC0072/DCC0106</td>\n",
       "    </tr>\n",
       "    <tr>\n",
       "      <th>2</th>\n",
       "      <td>DC000350</td>\n",
       "      <td>Betamethasone; Calcipotriol</td>\n",
       "      <td>DCC0095/DCC0358</td>\n",
       "    </tr>\n",
       "    <tr>\n",
       "      <th>3</th>\n",
       "      <td>DC000351</td>\n",
       "      <td>Betamethasone; Clotrimazole</td>\n",
       "      <td>DCC0033/DCC0095</td>\n",
       "    </tr>\n",
       "    <tr>\n",
       "      <th>4</th>\n",
       "      <td>DC000352</td>\n",
       "      <td>Cerulenin; Levodopa</td>\n",
       "      <td>DCC0274/DCC0326</td>\n",
       "    </tr>\n",
       "  </tbody>\n",
       "</table>\n",
       "</div>"
      ],
      "text/plain": [
       "  DrugCombination_ID                                    Components_Name  \\\n",
       "0           DC000348  Bismuth Subsalicylate; Metronidazole; Tetracyc...   \n",
       "1           DC000349                               Brimonidine; Timolol   \n",
       "2           DC000350                        Betamethasone; Calcipotriol   \n",
       "3           DC000351                        Betamethasone; Clotrimazole   \n",
       "4           DC000352                                Cerulenin; Levodopa   \n",
       "\n",
       "              Componets_ID  \n",
       "0  DCC0187/DCC0235/DCC0338  \n",
       "1          DCC0072/DCC0106  \n",
       "2          DCC0095/DCC0358  \n",
       "3          DCC0033/DCC0095  \n",
       "4          DCC0274/DCC0326  "
      ]
     },
     "execution_count": 3,
     "metadata": {},
     "output_type": "execute_result"
    }
   ],
   "source": [
    "print(len(dcdb))\n",
    "dcdb.head()"
   ]
  },
  {
   "cell_type": "code",
   "execution_count": 4,
   "metadata": {},
   "outputs": [
    {
     "name": "stderr",
     "output_type": "stream",
     "text": [
      "100%|██████████| 1793/1793 [00:00<00:00, 63971.72it/s]\n",
      "100%|██████████| 1813/1813 [00:00<00:00, 91084.41it/s]\n"
     ]
    }
   ],
   "source": [
    "# leave only \"EFFICACIOUS\" combinations\n",
    "dc2dcu_dict = {}\n",
    "for i in tqdm(range(len(dc2dcu))):\n",
    "    dc = dc2dcu['DC_ID'][i]\n",
    "    dcu = dc2dcu['DCU_ID'][i]\n",
    "    if dc not in dc2dcu_dict:\n",
    "        dc2dcu_dict[dc] = set([dcu])\n",
    "    else:\n",
    "        dc2dcu_dict[dc].add(dcu)\n",
    "\n",
    "efficacious_dcu = set()\n",
    "for i in tqdm(range(len(dcu_usage))):\n",
    "    dcu = dcu_usage['DCU_ID'][i]\n",
    "    if dcu_usage['EFFICACY'][i] == 'Efficacious':\n",
    "        efficacious_dcu.add(dcu)\n",
    "\n",
    "efficacious_dc = set()\n",
    "for key in dc2dcu_dict.keys():\n",
    "    if dc2dcu_dict[key].issubset(efficacious_dcu):\n",
    "        efficacious_dc.add(key)"
   ]
  },
  {
   "cell_type": "code",
   "execution_count": 5,
   "metadata": {},
   "outputs": [
    {
     "name": "stdout",
     "output_type": "stream",
     "text": [
      "1037\n"
     ]
    }
   ],
   "source": [
    "dcdb = dcdb.loc[dcdb['DrugCombination_ID'].isin(efficacious_dc)]\n",
    "print(len(dcdb))"
   ]
  },
  {
   "cell_type": "code",
   "execution_count": 6,
   "metadata": {},
   "outputs": [
    {
     "name": "stdout",
     "output_type": "stream",
     "text": [
      "876\n"
     ]
    },
    {
     "data": {
      "text/html": [
       "<div>\n",
       "<style scoped>\n",
       "    .dataframe tbody tr th:only-of-type {\n",
       "        vertical-align: middle;\n",
       "    }\n",
       "\n",
       "    .dataframe tbody tr th {\n",
       "        vertical-align: top;\n",
       "    }\n",
       "\n",
       "    .dataframe thead th {\n",
       "        text-align: right;\n",
       "    }\n",
       "</style>\n",
       "<table border=\"1\" class=\"dataframe\">\n",
       "  <thead>\n",
       "    <tr style=\"text-align: right;\">\n",
       "      <th></th>\n",
       "      <th>DCC_ID</th>\n",
       "      <th>Name</th>\n",
       "      <th>CAS_Number</th>\n",
       "      <th>BindingDB</th>\n",
       "      <th>ChEBI</th>\n",
       "      <th>DrugBank</th>\n",
       "      <th>KEGG Compound</th>\n",
       "      <th>KEGG Drug</th>\n",
       "      <th>PDB</th>\n",
       "      <th>PharmGKB</th>\n",
       "      <th>PubChem Compound</th>\n",
       "      <th>PubChem Substance</th>\n",
       "    </tr>\n",
       "  </thead>\n",
       "  <tbody>\n",
       "    <tr>\n",
       "      <th>0</th>\n",
       "      <td>DCC1838</td>\n",
       "      <td>Methyclothiazide</td>\n",
       "      <td>CAS:135-07-9</td>\n",
       "      <td>NaN</td>\n",
       "      <td>NaN</td>\n",
       "      <td>DB00232</td>\n",
       "      <td>NaN</td>\n",
       "      <td>D00656</td>\n",
       "      <td>NaN</td>\n",
       "      <td>NaN</td>\n",
       "      <td>NaN</td>\n",
       "      <td>7847722.0</td>\n",
       "    </tr>\n",
       "    <tr>\n",
       "      <th>1</th>\n",
       "      <td>DCC0413</td>\n",
       "      <td>Garenoxacin</td>\n",
       "      <td>CAS:194804-75-6</td>\n",
       "      <td>NaN</td>\n",
       "      <td>NaN</td>\n",
       "      <td>NaN</td>\n",
       "      <td>NaN</td>\n",
       "      <td>D02540</td>\n",
       "      <td>NaN</td>\n",
       "      <td>NaN</td>\n",
       "      <td>124093.0</td>\n",
       "      <td>NaN</td>\n",
       "    </tr>\n",
       "    <tr>\n",
       "      <th>2</th>\n",
       "      <td>DCC0520</td>\n",
       "      <td>Betaine</td>\n",
       "      <td>CAS:107-43-7</td>\n",
       "      <td>NaN</td>\n",
       "      <td>NaN</td>\n",
       "      <td>DB01494</td>\n",
       "      <td>NaN</td>\n",
       "      <td>D07523</td>\n",
       "      <td>NaN</td>\n",
       "      <td>NaN</td>\n",
       "      <td>247.0</td>\n",
       "      <td>NaN</td>\n",
       "    </tr>\n",
       "    <tr>\n",
       "      <th>3</th>\n",
       "      <td>DCC0639</td>\n",
       "      <td>Atrasentan</td>\n",
       "      <td>CAS:173937-91-2</td>\n",
       "      <td>NaN</td>\n",
       "      <td>NaN</td>\n",
       "      <td>NaN</td>\n",
       "      <td>NaN</td>\n",
       "      <td>D03009</td>\n",
       "      <td>NaN</td>\n",
       "      <td>NaN</td>\n",
       "      <td>17397165.0</td>\n",
       "      <td>NaN</td>\n",
       "    </tr>\n",
       "    <tr>\n",
       "      <th>4</th>\n",
       "      <td>DCC0029</td>\n",
       "      <td>Lovastatin</td>\n",
       "      <td>CAS:75330-75-5</td>\n",
       "      <td>NaN</td>\n",
       "      <td>40303.0</td>\n",
       "      <td>DB00227</td>\n",
       "      <td>C07074</td>\n",
       "      <td>D00359</td>\n",
       "      <td>803</td>\n",
       "      <td>PA450272</td>\n",
       "      <td>53232.0</td>\n",
       "      <td>46508223.0</td>\n",
       "    </tr>\n",
       "  </tbody>\n",
       "</table>\n",
       "</div>"
      ],
      "text/plain": [
       "    DCC_ID              Name       CAS_Number  BindingDB    ChEBI DrugBank  \\\n",
       "0  DCC1838  Methyclothiazide     CAS:135-07-9        NaN      NaN  DB00232   \n",
       "1  DCC0413       Garenoxacin  CAS:194804-75-6        NaN      NaN      NaN   \n",
       "2  DCC0520           Betaine     CAS:107-43-7        NaN      NaN  DB01494   \n",
       "3  DCC0639        Atrasentan  CAS:173937-91-2        NaN      NaN      NaN   \n",
       "4  DCC0029        Lovastatin   CAS:75330-75-5        NaN  40303.0  DB00227   \n",
       "\n",
       "  KEGG Compound KEGG Drug  PDB  PharmGKB  PubChem Compound  PubChem Substance  \n",
       "0           NaN    D00656  NaN       NaN               NaN          7847722.0  \n",
       "1           NaN    D02540  NaN       NaN          124093.0                NaN  \n",
       "2           NaN    D07523  NaN       NaN             247.0                NaN  \n",
       "3           NaN    D03009  NaN       NaN        17397165.0                NaN  \n",
       "4        C07074    D00359  803  PA450272           53232.0         46508223.0  "
      ]
     },
     "execution_count": 6,
     "metadata": {},
     "output_type": "execute_result"
    }
   ],
   "source": [
    "print(len(dcdb_id))\n",
    "dcdb_id.head()\n",
    "# sum(dcdb_id['DrugBank'].isna()) # 162"
   ]
  },
  {
   "cell_type": "code",
   "execution_count": 7,
   "metadata": {},
   "outputs": [
    {
     "name": "stdout",
     "output_type": "stream",
     "text": [
      "171\n"
     ]
    }
   ],
   "source": [
    "dcdb_dict = dict(zip(dcdb_id['DCC_ID'], dcdb_id['DrugBank']))\n",
    "bad_keys = []\n",
    "for key, value in dcdb_dict.items():\n",
    "    if type(value) != str:\n",
    "        bad_keys.append(key)\n",
    "    if type(value) == str and not value.startswith('DB'):\n",
    "        bad_keys.append(key)\n",
    "print(len(bad_keys))\n",
    "    "
   ]
  },
  {
   "cell_type": "code",
   "execution_count": 8,
   "metadata": {},
   "outputs": [],
   "source": [
    "for key in bad_keys:\n",
    "    del dcdb_dict[key]"
   ]
  },
  {
   "cell_type": "code",
   "execution_count": 9,
   "metadata": {},
   "outputs": [
    {
     "name": "stderr",
     "output_type": "stream",
     "text": [
      "100%|██████████| 1037/1037 [00:00<00:00, 120742.12it/s]"
     ]
    },
    {
     "name": "stdout",
     "output_type": "stream",
     "text": [
      "825\n"
     ]
    },
    {
     "name": "stderr",
     "output_type": "stream",
     "text": [
      "\n"
     ]
    }
   ],
   "source": [
    "dcdb_lst = []\n",
    "for x in tqdm(dcdb['Componets_ID']):\n",
    "    dc_ids = x.split('/')\n",
    "    db_ids = []\n",
    "    for id_ in dc_ids:\n",
    "        db_id = dcdb_dict.get(id_) # return None if not exist in the dictionary\n",
    "        db_ids.append(db_id)\n",
    "    if (np.nan not in db_ids) and (None not in db_ids):\n",
    "        dcdb_lst.append(set(db_ids))\n",
    "print(len(dcdb_lst))"
   ]
  },
  {
   "cell_type": "code",
   "execution_count": 10,
   "metadata": {},
   "outputs": [
    {
     "name": "stdout",
     "output_type": "stream",
     "text": [
      "825\n"
     ]
    }
   ],
   "source": [
    "dcdb_lst_final = []\n",
    "for x in dcdb_lst:\n",
    "    if x not in dcdb_lst_final:\n",
    "        dcdb_lst_final.append(x)\n",
    "print(len(dcdb_lst_final))"
   ]
  },
  {
   "cell_type": "markdown",
   "metadata": {},
   "source": [
    "C-DCDB (Continuous Drug combination database)"
   ]
  },
  {
   "cell_type": "code",
   "execution_count": 1,
   "metadata": {},
   "outputs": [],
   "source": [
    "import sqlite3\n",
    "import ast"
   ]
  },
  {
   "cell_type": "code",
   "execution_count": 88,
   "metadata": {},
   "outputs": [
    {
     "name": "stdout",
     "output_type": "stream",
     "text": [
      "[('aact_combs',), ('aact_combs_with_identifiers',), ('all_combs_unormalized',), ('conditions',), ('design_group',), ('mesh_terms',), ('orangebook_combs',), ('patents_ipc',), ('patents_metadata',), ('references',), ('transformed_patents_drug',), ('trials',), ('web_preview',)]\n"
     ]
    }
   ],
   "source": [
    "con = sqlite3.connect('raw_database/c_dcdb.sqlite')\n",
    "cursor = con.cursor()\n",
    "cursor.execute(\"SELECT name FROM sqlite_master WHERE type='table';\")\n",
    "print(cursor.fetchall())"
   ]
  },
  {
   "cell_type": "code",
   "execution_count": 6,
   "metadata": {},
   "outputs": [],
   "source": [
    "df = pd.read_sql_query(\"SELECT * from all_combs_unormalized\", con)"
   ]
  },
  {
   "cell_type": "code",
   "execution_count": 90,
   "metadata": {},
   "outputs": [
    {
     "data": {
      "text/html": [
       "<div>\n",
       "<style scoped>\n",
       "    .dataframe tbody tr th:only-of-type {\n",
       "        vertical-align: middle;\n",
       "    }\n",
       "\n",
       "    .dataframe tbody tr th {\n",
       "        vertical-align: top;\n",
       "    }\n",
       "\n",
       "    .dataframe thead th {\n",
       "        text-align: right;\n",
       "    }\n",
       "</style>\n",
       "<table border=\"1\" class=\"dataframe\">\n",
       "  <thead>\n",
       "    <tr style=\"text-align: right;\">\n",
       "      <th></th>\n",
       "      <th>index</th>\n",
       "      <th>drugs</th>\n",
       "      <th>drugbank_identifiers</th>\n",
       "      <th>pubchem_identifiers</th>\n",
       "      <th>source_id</th>\n",
       "      <th>source</th>\n",
       "    </tr>\n",
       "  </thead>\n",
       "  <tbody>\n",
       "    <tr>\n",
       "      <th>0</th>\n",
       "      <td>0</td>\n",
       "      <td>[[\"foscarnet\", \"Foscavir\"], [\"ganciclovir\", \"C...</td>\n",
       "      <td>[\"DB00529\", \"DB01004\"]</td>\n",
       "      <td>[\"-1\", \"-1\"]</td>\n",
       "      <td>NCT00000134</td>\n",
       "      <td>clinicaltrials.gov</td>\n",
       "    </tr>\n",
       "    <tr>\n",
       "      <th>1</th>\n",
       "      <td>1</td>\n",
       "      <td>[[\"ganciclovir\"], [\"foscarnet\", \"Foscavir\"]]</td>\n",
       "      <td>[\"DB01004\", \"DB00529\"]</td>\n",
       "      <td>[\"-1\", \"-1\"]</td>\n",
       "      <td>NCT00000136</td>\n",
       "      <td>clinicaltrials.gov</td>\n",
       "    </tr>\n",
       "    <tr>\n",
       "      <th>2</th>\n",
       "      <td>2</td>\n",
       "      <td>[[\"ganciclovir\"], [\"foscarnet\", \"Foscavir\"]]</td>\n",
       "      <td>[\"DB01004\", \"DB00529\"]</td>\n",
       "      <td>[\"-1\", \"-1\"]</td>\n",
       "      <td>NCT00000136</td>\n",
       "      <td>clinicaltrials.gov</td>\n",
       "    </tr>\n",
       "    <tr>\n",
       "      <th>3</th>\n",
       "      <td>3</td>\n",
       "      <td>[[\"cycloserine\"], [\"clozapine\"]]</td>\n",
       "      <td>[\"DB00260\", \"DB00363\"]</td>\n",
       "      <td>[\"CID6234\", \"CID2818\"]</td>\n",
       "      <td>NCT00000372</td>\n",
       "      <td>clinicaltrials.gov</td>\n",
       "    </tr>\n",
       "    <tr>\n",
       "      <th>4</th>\n",
       "      <td>4</td>\n",
       "      <td>[[\"PTH protein, human\", \"teriparatide\"], [\"ale...</td>\n",
       "      <td>[\"DB06285\", \"DB00630\"]</td>\n",
       "      <td>[\"CID16133850\", \"CID2088\"]</td>\n",
       "      <td>NCT00000400</td>\n",
       "      <td>clinicaltrials.gov</td>\n",
       "    </tr>\n",
       "    <tr>\n",
       "      <th>...</th>\n",
       "      <td>...</td>\n",
       "      <td>...</td>\n",
       "      <td>...</td>\n",
       "      <td>...</td>\n",
       "      <td>...</td>\n",
       "      <td>...</td>\n",
       "    </tr>\n",
       "    <tr>\n",
       "      <th>43860</th>\n",
       "      <td>43860</td>\n",
       "      <td>[\"DESOGESTREL\", \"ETHINYL ESTRADIOL\"]</td>\n",
       "      <td>[\"DB00304\", \"DB00977\"]</td>\n",
       "      <td>[\"CID40973\", \"CID5991\"]</td>\n",
       "      <td>None</td>\n",
       "      <td>orangebook</td>\n",
       "    </tr>\n",
       "    <tr>\n",
       "      <th>43861</th>\n",
       "      <td>43861</td>\n",
       "      <td>[\"ETHINYL ESTRADIOL\", \"NORGESTIMATE\"]</td>\n",
       "      <td>[\"DB00977\", \"DB00957\"]</td>\n",
       "      <td>[\"CID5991\", \"CID6540478\"]</td>\n",
       "      <td>None</td>\n",
       "      <td>orangebook</td>\n",
       "    </tr>\n",
       "    <tr>\n",
       "      <th>43862</th>\n",
       "      <td>43862</td>\n",
       "      <td>[\"ETHINYL ESTRADIOL\", \"FERROUS FUMARATE\", \"NOR...</td>\n",
       "      <td>[\"DB00977\", \"DB14491\", \"DB00717\"]</td>\n",
       "      <td>[\"CID5991\", \"CID6433164\", \"-1\"]</td>\n",
       "      <td>None</td>\n",
       "      <td>orangebook</td>\n",
       "    </tr>\n",
       "    <tr>\n",
       "      <th>43863</th>\n",
       "      <td>43863</td>\n",
       "      <td>[\"ETHINYL ESTRADIOL\", \"FERROUS FUMARATE\", \"NOR...</td>\n",
       "      <td>[\"DB00977\", \"DB14491\", \"DB00717\"]</td>\n",
       "      <td>[\"CID5991\", \"CID6433164\", \"CID6230\"]</td>\n",
       "      <td>None</td>\n",
       "      <td>orangebook</td>\n",
       "    </tr>\n",
       "    <tr>\n",
       "      <th>43864</th>\n",
       "      <td>43864</td>\n",
       "      <td>[\"ESTROGENS, CONJUGATED\", \"MEDROXYPROGESTERONE...</td>\n",
       "      <td>[\"DB00286\", \"DB00603\"]</td>\n",
       "      <td>[\"CID23667301\", \"CID6279\"]</td>\n",
       "      <td>None</td>\n",
       "      <td>orangebook</td>\n",
       "    </tr>\n",
       "  </tbody>\n",
       "</table>\n",
       "<p>43865 rows × 6 columns</p>\n",
       "</div>"
      ],
      "text/plain": [
       "       index                                              drugs  \\\n",
       "0          0  [[\"foscarnet\", \"Foscavir\"], [\"ganciclovir\", \"C...   \n",
       "1          1       [[\"ganciclovir\"], [\"foscarnet\", \"Foscavir\"]]   \n",
       "2          2       [[\"ganciclovir\"], [\"foscarnet\", \"Foscavir\"]]   \n",
       "3          3                   [[\"cycloserine\"], [\"clozapine\"]]   \n",
       "4          4  [[\"PTH protein, human\", \"teriparatide\"], [\"ale...   \n",
       "...      ...                                                ...   \n",
       "43860  43860               [\"DESOGESTREL\", \"ETHINYL ESTRADIOL\"]   \n",
       "43861  43861              [\"ETHINYL ESTRADIOL\", \"NORGESTIMATE\"]   \n",
       "43862  43862  [\"ETHINYL ESTRADIOL\", \"FERROUS FUMARATE\", \"NOR...   \n",
       "43863  43863  [\"ETHINYL ESTRADIOL\", \"FERROUS FUMARATE\", \"NOR...   \n",
       "43864  43864  [\"ESTROGENS, CONJUGATED\", \"MEDROXYPROGESTERONE...   \n",
       "\n",
       "                    drugbank_identifiers  \\\n",
       "0                 [\"DB00529\", \"DB01004\"]   \n",
       "1                 [\"DB01004\", \"DB00529\"]   \n",
       "2                 [\"DB01004\", \"DB00529\"]   \n",
       "3                 [\"DB00260\", \"DB00363\"]   \n",
       "4                 [\"DB06285\", \"DB00630\"]   \n",
       "...                                  ...   \n",
       "43860             [\"DB00304\", \"DB00977\"]   \n",
       "43861             [\"DB00977\", \"DB00957\"]   \n",
       "43862  [\"DB00977\", \"DB14491\", \"DB00717\"]   \n",
       "43863  [\"DB00977\", \"DB14491\", \"DB00717\"]   \n",
       "43864             [\"DB00286\", \"DB00603\"]   \n",
       "\n",
       "                        pubchem_identifiers    source_id              source  \n",
       "0                              [\"-1\", \"-1\"]  NCT00000134  clinicaltrials.gov  \n",
       "1                              [\"-1\", \"-1\"]  NCT00000136  clinicaltrials.gov  \n",
       "2                              [\"-1\", \"-1\"]  NCT00000136  clinicaltrials.gov  \n",
       "3                    [\"CID6234\", \"CID2818\"]  NCT00000372  clinicaltrials.gov  \n",
       "4                [\"CID16133850\", \"CID2088\"]  NCT00000400  clinicaltrials.gov  \n",
       "...                                     ...          ...                 ...  \n",
       "43860               [\"CID40973\", \"CID5991\"]         None          orangebook  \n",
       "43861             [\"CID5991\", \"CID6540478\"]         None          orangebook  \n",
       "43862       [\"CID5991\", \"CID6433164\", \"-1\"]         None          orangebook  \n",
       "43863  [\"CID5991\", \"CID6433164\", \"CID6230\"]         None          orangebook  \n",
       "43864            [\"CID23667301\", \"CID6279\"]         None          orangebook  \n",
       "\n",
       "[43865 rows x 6 columns]"
      ]
     },
     "execution_count": 90,
     "metadata": {},
     "output_type": "execute_result"
    }
   ],
   "source": [
    "df"
   ]
  },
  {
   "cell_type": "code",
   "execution_count": 97,
   "metadata": {},
   "outputs": [
    {
     "name": "stdout",
     "output_type": "stream",
     "text": [
      "43865\n"
     ]
    }
   ],
   "source": [
    "c_dcdb_lst = []\n",
    "for x in df['drugbank_identifiers']:\n",
    "    x = ast.literal_eval(x)\n",
    "    c_dcdb_lst.append(set(x))\n",
    "print(len(c_dcdb_lst))"
   ]
  },
  {
   "cell_type": "code",
   "execution_count": 98,
   "metadata": {},
   "outputs": [
    {
     "name": "stdout",
     "output_type": "stream",
     "text": [
      "15336\n"
     ]
    }
   ],
   "source": [
    "c_dcdb_lst_final = []\n",
    "for x in c_dcdb_lst:\n",
    "    flag = 0\n",
    "    for y in x:\n",
    "        if not y.startswith('DB'):\n",
    "            flag += 1\n",
    "    if flag != 0:\n",
    "        continue\n",
    "\n",
    "    if x not in c_dcdb_lst_final:\n",
    "        c_dcdb_lst_final.append(x)\n",
    "\n",
    "print(len(c_dcdb_lst_final))"
   ]
  },
  {
   "cell_type": "markdown",
   "metadata": {},
   "source": [
    "Leave drug combinations of only Two drugs"
   ]
  },
  {
   "cell_type": "code",
   "execution_count": 11,
   "metadata": {},
   "outputs": [
    {
     "name": "stdout",
     "output_type": "stream",
     "text": [
      "598\n"
     ]
    }
   ],
   "source": [
    "dcdb_lst_dual = []\n",
    "for x in dcdb_lst_final:\n",
    "    if len(x) == 2:\n",
    "        dcdb_lst_dual.append(list(x))\n",
    "print(len(dcdb_lst_dual))"
   ]
  },
  {
   "cell_type": "code",
   "execution_count": 109,
   "metadata": {},
   "outputs": [
    {
     "name": "stdout",
     "output_type": "stream",
     "text": [
      "9092\n"
     ]
    }
   ],
   "source": [
    "c_dcdb_lst_dual = []\n",
    "for x in c_dcdb_lst_final:\n",
    "    if len(x) == 2:\n",
    "        c_dcdb_lst_dual.append(list(x))\n",
    "print(len(c_dcdb_lst_dual))"
   ]
  },
  {
   "cell_type": "markdown",
   "metadata": {},
   "source": [
    "Export to tsv file"
   ]
  },
  {
   "cell_type": "code",
   "execution_count": 12,
   "metadata": {},
   "outputs": [],
   "source": [
    "pd.DataFrame(dcdb_lst_dual, columns=['drug_1', 'drug_2']).to_csv('ori_labels/DCDB_dual.tsv', sep='\\t', index=None)"
   ]
  },
  {
   "cell_type": "code",
   "execution_count": 117,
   "metadata": {},
   "outputs": [],
   "source": [
    "pd.DataFrame(c_dcdb_lst_dual, columns=['drug_1', 'drug_2']).to_csv('ori_labels/C_DCDB_dual.tsv', sep='\\t', index=None)"
   ]
  },
  {
   "cell_type": "code",
   "execution_count": 13,
   "metadata": {},
   "outputs": [
    {
     "data": {
      "text/html": [
       "<div>\n",
       "<style scoped>\n",
       "    .dataframe tbody tr th:only-of-type {\n",
       "        vertical-align: middle;\n",
       "    }\n",
       "\n",
       "    .dataframe tbody tr th {\n",
       "        vertical-align: top;\n",
       "    }\n",
       "\n",
       "    .dataframe thead th {\n",
       "        text-align: right;\n",
       "    }\n",
       "</style>\n",
       "<table border=\"1\" class=\"dataframe\">\n",
       "  <thead>\n",
       "    <tr style=\"text-align: right;\">\n",
       "      <th></th>\n",
       "      <th>drug_1</th>\n",
       "      <th>drug_2</th>\n",
       "    </tr>\n",
       "  </thead>\n",
       "  <tbody>\n",
       "    <tr>\n",
       "      <th>0</th>\n",
       "      <td>DB00373</td>\n",
       "      <td>DB00484</td>\n",
       "    </tr>\n",
       "    <tr>\n",
       "      <th>1</th>\n",
       "      <td>DB00443</td>\n",
       "      <td>DB02300</td>\n",
       "    </tr>\n",
       "    <tr>\n",
       "      <th>2</th>\n",
       "      <td>DB00443</td>\n",
       "      <td>DB00257</td>\n",
       "    </tr>\n",
       "    <tr>\n",
       "      <th>3</th>\n",
       "      <td>DB01235</td>\n",
       "      <td>DB01034</td>\n",
       "    </tr>\n",
       "    <tr>\n",
       "      <th>4</th>\n",
       "      <td>DB01222</td>\n",
       "      <td>DB00983</td>\n",
       "    </tr>\n",
       "  </tbody>\n",
       "</table>\n",
       "</div>"
      ],
      "text/plain": [
       "    drug_1   drug_2\n",
       "0  DB00373  DB00484\n",
       "1  DB00443  DB02300\n",
       "2  DB00443  DB00257\n",
       "3  DB01235  DB01034\n",
       "4  DB01222  DB00983"
      ]
     },
     "execution_count": 13,
     "metadata": {},
     "output_type": "execute_result"
    }
   ],
   "source": [
    "dcdb_dual = pd.read_csv('ori_labels/DCDB_dual.tsv', sep='\\t')\n",
    "dcdb_dual.head()"
   ]
  },
  {
   "cell_type": "code",
   "execution_count": 28,
   "metadata": {},
   "outputs": [
    {
     "data": {
      "text/html": [
       "<div>\n",
       "<style scoped>\n",
       "    .dataframe tbody tr th:only-of-type {\n",
       "        vertical-align: middle;\n",
       "    }\n",
       "\n",
       "    .dataframe tbody tr th {\n",
       "        vertical-align: top;\n",
       "    }\n",
       "\n",
       "    .dataframe thead th {\n",
       "        text-align: right;\n",
       "    }\n",
       "</style>\n",
       "<table border=\"1\" class=\"dataframe\">\n",
       "  <thead>\n",
       "    <tr style=\"text-align: right;\">\n",
       "      <th></th>\n",
       "      <th>drug_1</th>\n",
       "      <th>drug_2</th>\n",
       "    </tr>\n",
       "  </thead>\n",
       "  <tbody>\n",
       "    <tr>\n",
       "      <th>0</th>\n",
       "      <td>DB00529</td>\n",
       "      <td>DB01004</td>\n",
       "    </tr>\n",
       "    <tr>\n",
       "      <th>1</th>\n",
       "      <td>DB00363</td>\n",
       "      <td>DB00260</td>\n",
       "    </tr>\n",
       "    <tr>\n",
       "      <th>2</th>\n",
       "      <td>DB06285</td>\n",
       "      <td>DB00630</td>\n",
       "    </tr>\n",
       "    <tr>\n",
       "      <th>3</th>\n",
       "      <td>DB01104</td>\n",
       "      <td>DB00704</td>\n",
       "    </tr>\n",
       "    <tr>\n",
       "      <th>4</th>\n",
       "      <td>DB00375</td>\n",
       "      <td>DB00227</td>\n",
       "    </tr>\n",
       "  </tbody>\n",
       "</table>\n",
       "</div>"
      ],
      "text/plain": [
       "    drug_1   drug_2\n",
       "0  DB00529  DB01004\n",
       "1  DB00363  DB00260\n",
       "2  DB06285  DB00630\n",
       "3  DB01104  DB00704\n",
       "4  DB00375  DB00227"
      ]
     },
     "execution_count": 28,
     "metadata": {},
     "output_type": "execute_result"
    }
   ],
   "source": [
    "c_dcdb_dual = pd.read_csv('ori_labels/C_DCDB_dual.tsv', sep='\\t')\n",
    "c_dcdb_dual.head()"
   ]
  }
 ],
 "metadata": {
  "kernelspec": {
   "display_name": "Python 3.10.4 ('ayn')",
   "language": "python",
   "name": "python3"
  },
  "language_info": {
   "codemirror_mode": {
    "name": "ipython",
    "version": 3
   },
   "file_extension": ".py",
   "mimetype": "text/x-python",
   "name": "python",
   "nbconvert_exporter": "python",
   "pygments_lexer": "ipython3",
   "version": "3.10.4"
  },
  "vscode": {
   "interpreter": {
    "hash": "c4698125b34f9b3056e7b596654ef06bea4fe54a8b707ab96252cf01711dc60f"
   }
  }
 },
 "nbformat": 4,
 "nbformat_minor": 4
}
