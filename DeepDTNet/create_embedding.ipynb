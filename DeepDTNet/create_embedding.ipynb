{
 "cells": [
  {
   "cell_type": "markdown",
   "metadata": {},
   "source": [
    "# Create Embedding for DeepDTNet (step1)\n",
    "1. Random Surfing Model to generate PCO(Probabilistic Co-Occurence) Matrix and capture graph structure information.\n",
    "2. Based on the probabilistic co-occurrence matrix, calculate the shifting positive pointwise mutual information (PPMI) matrix."
   ]
  },
  {
   "cell_type": "code",
   "execution_count": 2,
   "metadata": {},
   "outputs": [],
   "source": [
    "import os\n",
    "import numpy as np\n",
    "import pandas as pd\n",
    "import networkx as nx\n",
    "import torch\n",
    "import random\n",
    "from IPython.core.interactiveshell import InteractiveShell\n",
    "InteractiveShell.ast_node_interactivity = \"all\""
   ]
  },
  {
   "cell_type": "code",
   "execution_count": 3,
   "metadata": {},
   "outputs": [],
   "source": [
    "# ====== Random Seed Initialization ====== #\n",
    "def seed_everything(seed = 3078):\n",
    "    random.seed(seed)\n",
    "    torch.manual_seed(seed)\n",
    "    torch.cuda.manual_seed_all(seed)\n",
    "    np.random.seed(seed)\n",
    "    os.environ['PYTHONHASHSEED'] = str(seed)\n",
    "    torch.backends.cudnn.deterministic = True\n",
    "    torch.backends.cudnn.benchmark = True\n",
    "seed_everything()"
   ]
  },
  {
   "cell_type": "code",
   "execution_count": 4,
   "metadata": {},
   "outputs": [
    {
     "data": {
      "text/plain": [
       "'/data/project/james/PZdeepdrug/DeepDTNet/data/raw/'"
      ]
     },
     "execution_count": 4,
     "metadata": {},
     "output_type": "execute_result"
    }
   ],
   "source": [
    "# get drug data and drug similarity data from raw/ folder\n",
    "data_raw_direct = \"data/raw/\"\n",
    "data_d = os.path.join(os.getcwd(), data_raw_direct) \n",
    "data_d"
   ]
  },
  {
   "cell_type": "code",
   "execution_count": 5,
   "metadata": {},
   "outputs": [],
   "source": [
    "drug_dict = pd.read_csv(os.path.join(data_d, \"drug_dict.txt\"), engine='python', header=None) #! 732 x 1\n",
    "drugDis = pd.read_csv(os.path.join(data_d, \"drugDisease.txt\"), engine='python', header=None, sep='\\t') #! 732 x 440\n",
    "drugdrug = pd.read_csv(os.path.join(data_d, \"drugdrug.txt\"), engine='python', header=None, sep='\\t') #! 732 x 732\n",
    "drugProt = pd.read_csv(os.path.join(data_d, \"drugProtein.txt\"), engine='python', header=None, sep='\\t') #! 732 x 1915\n",
    "drugSide = pd.read_csv(os.path.join(data_d, \"drugsideEffect.txt\"), engine='python', header=None, sep='\\t') #! 732 x 12904"
   ]
  },
  {
   "cell_type": "code",
   "execution_count": 6,
   "metadata": {},
   "outputs": [],
   "source": [
    "drugSim1 = pd.read_csv(os.path.join(data_d, \"drugsim1network.txt\"), engine='python', header=None, sep='\\t') #! 732 x 732 Chemical sim\n",
    "drugSim2 = pd.read_csv(os.path.join(data_d, \"drugsim2network.txt\"), engine='python', header=None, sep='\\t') #! 732 x 732 Therapeutic\n",
    "drugSim3 = pd.read_csv(os.path.join(data_d, \"drugsim3network.txt\"), engine='python', header=None, sep='\\t') #! 732 x 732 Protein sequence\n",
    "drugSim4 = pd.read_csv(os.path.join(data_d, \"drugsim4network.txt\"), engine='python', header=None, sep='\\t') #! 732 x 732 Biological process\n",
    "drugSim5 = pd.read_csv(os.path.join(data_d, \"drugsim5network.txt\"), engine='python', header=None, sep='\\t') #! 732 x 732 Cellular component\n",
    "drugSim6 = pd.read_csv(os.path.join(data_d, \"drugsim6network.txt\"), engine='python', header=None, sep='\\t') #! 732 x 732 Molecular function\n",
    "# 이 6개는 RWR > AE > concat > Embedding"
   ]
  },
  {
   "cell_type": "code",
   "execution_count": 7,
   "metadata": {},
   "outputs": [
    {
     "name": "stderr",
     "output_type": "stream",
     "text": [
      "/tmp/ipykernel_8862/1445379462.py:2: FutureWarning: google_matrix will return an np.ndarray instead of a np.matrix in\n",
      "NetworkX version 3.0.\n",
      "  rwr1 = nx.google_matrix(G1, alpha = 0.85)\n",
      "/tmp/ipykernel_8862/1445379462.py:5: FutureWarning: google_matrix will return an np.ndarray instead of a np.matrix in\n",
      "NetworkX version 3.0.\n",
      "  rwr2 = nx.google_matrix(G2, alpha = 0.85)\n",
      "/tmp/ipykernel_8862/1445379462.py:8: FutureWarning: google_matrix will return an np.ndarray instead of a np.matrix in\n",
      "NetworkX version 3.0.\n",
      "  rwr3 = nx.google_matrix(G3, alpha = 0.85)\n",
      "/tmp/ipykernel_8862/1445379462.py:11: FutureWarning: google_matrix will return an np.ndarray instead of a np.matrix in\n",
      "NetworkX version 3.0.\n",
      "  rwr4 = nx.google_matrix(G4, alpha = 0.85)\n",
      "/tmp/ipykernel_8862/1445379462.py:14: FutureWarning: google_matrix will return an np.ndarray instead of a np.matrix in\n",
      "NetworkX version 3.0.\n",
      "  rwr5 = nx.google_matrix(G5, alpha = 0.85)\n",
      "/tmp/ipykernel_8862/1445379462.py:17: FutureWarning: google_matrix will return an np.ndarray instead of a np.matrix in\n",
      "NetworkX version 3.0.\n",
      "  rwr6 = nx.google_matrix(G6, alpha = 0.85)\n"
     ]
    }
   ],
   "source": [
    "G1 = nx.from_pandas_adjacency(drugSim1)\n",
    "rwr1 = nx.google_matrix(G1, alpha = 0.85)\n",
    "\n",
    "G2 = nx.from_pandas_adjacency(drugSim2)\n",
    "rwr2 = nx.google_matrix(G2, alpha = 0.85)\n",
    "\n",
    "G3 = nx.from_pandas_adjacency(drugSim3)\n",
    "rwr3 = nx.google_matrix(G3, alpha = 0.85)\n",
    "\n",
    "G4 = nx.from_pandas_adjacency(drugSim4)\n",
    "rwr4 = nx.google_matrix(G4, alpha = 0.85)\n",
    "\n",
    "G5 = nx.from_pandas_adjacency(drugSim5)\n",
    "rwr5 = nx.google_matrix(G5, alpha = 0.85)\n",
    "\n",
    "G6 = nx.from_pandas_adjacency(drugSim6)\n",
    "rwr6 = nx.google_matrix(G6, alpha = 0.85)\n",
    "\n",
    "rwr1 = pd.DataFrame(rwr1)\n",
    "rwr2 = pd.DataFrame(rwr2)\n",
    "rwr3 = pd.DataFrame(rwr3)\n",
    "rwr4 = pd.DataFrame(rwr4)\n",
    "rwr5 = pd.DataFrame(rwr5)\n",
    "rwr6 = pd.DataFrame(rwr6)"
   ]
  },
  {
   "cell_type": "code",
   "execution_count": 9,
   "metadata": {},
   "outputs": [
    {
     "data": {
      "text/plain": [
       "0.9999999999999999"
      ]
     },
     "execution_count": 9,
     "metadata": {},
     "output_type": "execute_result"
    }
   ],
   "source": [
    "rwr1.iloc[2,:].sum()"
   ]
  },
  {
   "cell_type": "code",
   "execution_count": 10,
   "metadata": {},
   "outputs": [],
   "source": [
    "def pmi(df, positive=True):\n",
    "    col_totals = df.sum(axis=1) # 열\n",
    "    total = col_totals.sum()\n",
    "    row_totals = df.sum(axis=0) # 행 #! 행 합이 1 임\n",
    "    expected = np.outer(row_totals, col_totals) / total\n",
    "    df = df / expected\n",
    "    # Silence distracting warnings about log(0):\n",
    "    with np.errstate(divide='ignore'):\n",
    "        df = np.log(df)\n",
    "    df[np.isinf(df)] = 0.0  # log(0) = 0\n",
    "    if positive:\n",
    "        df[df < 0] = 0.0\n",
    "    return df"
   ]
  },
  {
   "cell_type": "code",
   "execution_count": 11,
   "metadata": {},
   "outputs": [],
   "source": [
    "pmi1 = pmi(rwr1)\n",
    "pmi2 = pmi(rwr2)\n",
    "pmi3 = pmi(rwr3)\n",
    "pmi4 = pmi(rwr4)\n",
    "pmi5 = pmi(rwr5)\n",
    "pmi6 = pmi(rwr6)"
   ]
  },
  {
   "cell_type": "code",
   "execution_count": 12,
   "metadata": {},
   "outputs": [
    {
     "data": {
      "text/plain": [
       "'/data/project/james/PZdeepdrug/DeepDTNet/data/matrix/'"
      ]
     },
     "execution_count": 12,
     "metadata": {},
     "output_type": "execute_result"
    }
   ],
   "source": [
    "# get drug data and drug similarity data from raw/ folder\n",
    "data_matrix_direct = \"data/matrix/\"\n",
    "data_matrix_d = os.path.join(os.getcwd(), data_matrix_direct) \n",
    "data_matrix_d"
   ]
  },
  {
   "cell_type": "code",
   "execution_count": 13,
   "metadata": {},
   "outputs": [],
   "source": [
    "pmi1.to_csv(os.path.join(data_matrix_d,'PPMI_matrix_Chemical.txt'), sep='\\t')\n",
    "pmi2.to_csv(os.path.join(data_matrix_d,'PPMI_matrix_Therapeutic.txt'), sep='\\t')\n",
    "pmi3.to_csv(os.path.join(data_matrix_d,'PPMI_matrix_ProteinSequence.txt'), sep='\\t')\n",
    "pmi4.to_csv(os.path.join(data_matrix_d,'PPMI_matrix_BiologicalProcess.txt'), sep='\\t')\n",
    "pmi5.to_csv(os.path.join(data_matrix_d,'PPMI_matrix_CellularComponent.txt'), sep='\\t')\n",
    "pmi6.to_csv(os.path.join(data_matrix_d,'PPMI_matrix_MolecularFunction.txt'), sep='\\t')"
   ]
  }
 ],
 "metadata": {
  "kernelspec": {
   "display_name": "pzdeep",
   "language": "python",
   "name": "pzdeep"
  },
  "language_info": {
   "codemirror_mode": {
    "name": "ipython",
    "version": 3
   },
   "file_extension": ".py",
   "mimetype": "text/x-python",
   "name": "python",
   "nbconvert_exporter": "python",
   "pygments_lexer": "ipython3",
   "version": "3.8.13"
  },
  "orig_nbformat": 4
 },
 "nbformat": 4,
 "nbformat_minor": 2
}
