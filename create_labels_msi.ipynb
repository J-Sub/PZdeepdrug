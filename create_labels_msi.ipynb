{
 "cells": [
  {
   "cell_type": "code",
   "execution_count": 1,
   "metadata": {},
   "outputs": [],
   "source": [
    "import pandas as pd\n",
    "import numpy as np\n",
    "from tqdm import tqdm\n",
    "from MSI.load_msi_data import LoadData"
   ]
  },
  {
   "cell_type": "code",
   "execution_count": 2,
   "metadata": {},
   "outputs": [],
   "source": [
    "'''DataLoader'''\n",
    "dataloader = LoadData()\n",
    "\n",
    "# get_dict\n",
    "# protein_id2name, protein_name2id = dataloader.get_dict(type='protein')\n",
    "drug_id2name, drug_name2id = dataloader.get_dict(type='drug')\n",
    "# indication_id2name, indication_name2id = dataloader.get_dict(type='indication')\n",
    "# biof_id2name, biof_name2id = dataloader.get_dict(type='biological_function')"
   ]
  },
  {
   "attachments": {},
   "cell_type": "markdown",
   "metadata": {},
   "source": [
    "Check common drugs between MSI and DCDB / C_DCDB / DB_DDI / TWOSIDES_DDI"
   ]
  },
  {
   "cell_type": "code",
   "execution_count": 3,
   "metadata": {},
   "outputs": [],
   "source": [
    "msi_drug_list = list(drug_id2name.keys())"
   ]
  },
  {
   "cell_type": "code",
   "execution_count": 4,
   "metadata": {},
   "outputs": [],
   "source": [
    "dcdb_dual = pd.read_csv('ori_labels/DCDB_dual.tsv', sep='\\t')\n",
    "c_dcdb_dual = pd.read_csv('ori_labels/C_DCDB_dual.tsv', sep='\\t')\n",
    "db_ddi = pd.read_csv('ori_labels/DB_DDI.csv').drop(columns=['Y'])\n",
    "twosides_ddi = pd.read_csv('ori_labels/TWOSIDES_DDI.tsv', sep='\\t')"
   ]
  },
  {
   "cell_type": "code",
   "execution_count": 5,
   "metadata": {},
   "outputs": [],
   "source": [
    "def leave_common_drugs(df):\n",
    "    count = 0\n",
    "    for row in df.iterrows():\n",
    "        a, b = row[1][0], row[1][1]\n",
    "        if a in msi_drug_list and b in msi_drug_list:\n",
    "            count += 1\n",
    "    print(f'Original number of rows: {len(df)}')\n",
    "    print(f'Filtered number of rows: {count}')\n",
    "    return df[df['drug_1'].isin(msi_drug_list) & df['drug_2'].isin(msi_drug_list)]"
   ]
  },
  {
   "cell_type": "code",
   "execution_count": 6,
   "metadata": {},
   "outputs": [
    {
     "name": "stdout",
     "output_type": "stream",
     "text": [
      "Original number of rows: 598\n",
      "Filtered number of rows: 455\n",
      "Original number of rows: 9092\n",
      "Filtered number of rows: 4221\n",
      "Original number of rows: 191808\n",
      "Filtered number of rows: 122040\n",
      "Original number of rows: 18530\n",
      "Filtered number of rows: 15710\n"
     ]
    }
   ],
   "source": [
    "dcdb_dual = leave_common_drugs(dcdb_dual)\n",
    "c_dcdb_dual = leave_common_drugs(c_dcdb_dual)\n",
    "db_ddi = leave_common_drugs(db_ddi)\n",
    "twosides_ddi = leave_common_drugs(twosides_ddi)"
   ]
  },
  {
   "attachments": {},
   "cell_type": "markdown",
   "metadata": {},
   "source": [
    "Save DCDB, C_DCDB"
   ]
  },
  {
   "cell_type": "code",
   "execution_count": 7,
   "metadata": {},
   "outputs": [],
   "source": [
    "dcdb_dual.to_csv('MSI/data/labels/DCDB_msi.tsv', sep='\\t', index=None)\n",
    "c_dcdb_dual.to_csv('MSI/data/labels/C_DCDB_msi.tsv', sep='\\t', index=None)"
   ]
  },
  {
   "attachments": {},
   "cell_type": "markdown",
   "metadata": {},
   "source": [
    "Combine DCDB, C_DCDB"
   ]
  },
  {
   "cell_type": "code",
   "execution_count": 8,
   "metadata": {},
   "outputs": [],
   "source": [
    "dcdb_dual = pd.read_csv('MSI/data/labels/DCDB_msi.tsv', sep='\\t')\n",
    "c_dcdb_dual = pd.read_csv('MSI/data/labels/C_DCDB_msi.tsv', sep='\\t')\n",
    "\n",
    "dcdb_drug_set = []\n",
    "for row in dcdb_dual.iterrows():\n",
    "    dcdb_drug_set.append(set([row[1][0], row[1][1]]))\n",
    "c_dcdb_drug_set = []\n",
    "for row in c_dcdb_dual.iterrows():\n",
    "    c_dcdb_drug_set.append(set([row[1][0], row[1][1]]))\n",
    "\n",
    "not_common_idx = []\n",
    "for i in range(len(dcdb_drug_set)):\n",
    "    if dcdb_drug_set[i] not in c_dcdb_drug_set:\n",
    "        not_common_idx.append(i)\n",
    "\n",
    "dc = pd.concat([c_dcdb_dual, dcdb_dual.iloc[not_common_idx]], axis=0)\n",
    "dc.reset_index(drop=True, inplace=True)"
   ]
  },
  {
   "cell_type": "code",
   "execution_count": 9,
   "metadata": {},
   "outputs": [],
   "source": [
    "dc.to_csv('MSI/data/labels/DC_combined_msi.tsv', sep='\\t', index=None)"
   ]
  },
  {
   "attachments": {},
   "cell_type": "markdown",
   "metadata": {},
   "source": [
    "Leave unique Drug-Drug Interaction pair (DDI - DC)"
   ]
  },
  {
   "cell_type": "code",
   "execution_count": 10,
   "metadata": {},
   "outputs": [
    {
     "name": "stdout",
     "output_type": "stream",
     "text": [
      "Original number of rows: 122040\n",
      "Filtered number of rows: 122040\n",
      "Original number of rows: 15710\n",
      "Filtered number of rows: 15710\n"
     ]
    }
   ],
   "source": [
    "dc = pd.read_csv('MSI/data/labels/DC_combined_msi.tsv', sep='\\t')\n",
    "\n",
    "db_ddi = leave_common_drugs(db_ddi)\n",
    "twosides_ddi = leave_common_drugs(twosides_ddi)"
   ]
  },
  {
   "cell_type": "code",
   "execution_count": 11,
   "metadata": {},
   "outputs": [],
   "source": [
    "def leave_unique_pair(dc, ddi):\n",
    "    dc_set_list = []\n",
    "    for row in dc.iterrows():\n",
    "        dc_set_list.append(set([row[1][0], row[1][1]]))\n",
    "    ddi_set_list = []\n",
    "    for row in ddi.iterrows():\n",
    "        ddi_set_list.append(set([row[1][0], row[1][1]]))\n",
    "    not_common_idx = []\n",
    "    for i in range(len(ddi_set_list)):\n",
    "        if ddi_set_list[i] not in dc_set_list:\n",
    "            not_common_idx.append(i)\n",
    "    temp = ddi.iloc[not_common_idx]\n",
    "    return temp.reset_index(drop=True)"
   ]
  },
  {
   "cell_type": "code",
   "execution_count": 12,
   "metadata": {},
   "outputs": [],
   "source": [
    "db_ddi = leave_unique_pair(dc, db_ddi)\n",
    "twosides_ddi = leave_unique_pair(dc, twosides_ddi)"
   ]
  },
  {
   "cell_type": "code",
   "execution_count": 13,
   "metadata": {},
   "outputs": [
    {
     "name": "stdout",
     "output_type": "stream",
     "text": [
      "120599\n",
      "15300\n"
     ]
    }
   ],
   "source": [
    "print(len(db_ddi))\n",
    "print(len(twosides_ddi))"
   ]
  },
  {
   "cell_type": "code",
   "execution_count": 14,
   "metadata": {},
   "outputs": [],
   "source": [
    "db_ddi.to_csv('MSI/data/labels/DB_DDI_msi.tsv', sep='\\t', index=None)\n",
    "twosides_ddi.to_csv('MSI/data/labels/TWOSIDES_DDI_msi.tsv', sep='\\t', index=None)"
   ]
  }
 ],
 "metadata": {
  "kernelspec": {
   "display_name": "ayn",
   "language": "python",
   "name": "ayn"
  },
  "language_info": {
   "codemirror_mode": {
    "name": "ipython",
    "version": 3
   },
   "file_extension": ".py",
   "mimetype": "text/x-python",
   "name": "python",
   "nbconvert_exporter": "python",
   "pygments_lexer": "ipython3",
   "version": "3.10.4"
  },
  "orig_nbformat": 4,
  "vscode": {
   "interpreter": {
    "hash": "c4698125b34f9b3056e7b596654ef06bea4fe54a8b707ab96252cf01711dc60f"
   }
  }
 },
 "nbformat": 4,
 "nbformat_minor": 2
}
