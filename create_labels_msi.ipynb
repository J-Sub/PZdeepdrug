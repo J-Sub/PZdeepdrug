{
 "cells": [
  {
   "cell_type": "code",
   "execution_count": 1,
   "metadata": {},
   "outputs": [],
   "source": [
    "import pandas as pd\n",
    "import numpy as np\n",
    "from tqdm import tqdm\n",
    "from MSI.load_data import LoadData"
   ]
  },
  {
   "cell_type": "code",
   "execution_count": 2,
   "metadata": {},
   "outputs": [],
   "source": [
    "'''DataLoader'''\n",
    "dataloader = LoadData()\n",
    "\n",
    "# get_dict\n",
    "# protein_id2name, protein_name2id = dataloader.get_dict(type='protein')\n",
    "drug_id2name, drug_name2id = dataloader.get_dict(type='drug')\n",
    "# indication_id2name, indication_name2id = dataloader.get_dict(type='indication')\n",
    "# biof_id2name, biof_name2id = dataloader.get_dict(type='biological_function')"
   ]
  },
  {
   "cell_type": "markdown",
   "metadata": {},
   "source": [
    "Check common drugs between MSI and DCDB / C_DCDB"
   ]
  },
  {
   "cell_type": "code",
   "execution_count": 3,
   "metadata": {},
   "outputs": [
    {
     "data": {
      "text/plain": [
       "dict_keys(['DB12010', 'DB01169', 'DB00459', 'DB06803', 'DB09462', 'DB01593', 'DB02709', 'DB06782', 'DB00746', 'DB01094', 'DB08827', 'DB00619', 'DB01268', 'DB06589', 'DB00397', 'DB00368', 'DB00960', 'DB00598', 'DB00852', 'DB00335', 'DB08985', 'DB00187', 'DB04855', 'DB01151', 'DB00726', 'DB00489', 'DB09068', 'DB01295', 'DB13345', 'clorprenaline', 'DB00521', 'DB00612', 'DB01136', 'DB01214', 'DB00221', 'DB00127', 'DB11273', 'DB00866', 'DB00571', 'DB00871', 'DB08807', 'DB00334', 'DB06262', 'DB01288', 'DB01359', 'DB05039', 'DB01182', 'DB01193', 'DB00540', 'DB01365', 'DB01291', 'DB09351', 'DB01118', 'DB00182', 'DB00555', 'DB00668', 'DB00408', 'DB01064', 'DB01407', 'DB01001', 'DB00264', 'DB00195', 'DB08808', 'DB00841', 'DB00938', 'DB08893', 'DB00373', 'DB00321', 'DB00248', 'DB01102', 'DB06216', 'DB01297', 'DB00983', 'DB04861', 'DB04846', 'DB00370', 'DB01049', 'DB01210', 'DB01580', 'DB01203', 'carazolol', 'DB09301', 'DB00661', 'DB09229', 'DB00653', 'DB00825', 'DB13500', 'DB00568', 'DB08872', 'DB09089', 'DB09230', 'DB00230', 'DB00270', 'DB00622', 'DB01023', 'DB12278', 'DB00996', 'DB00308', 'DB00898', 'DB00381', 'DB09090', 'DB00343', 'DB01115', 'DB00401', 'DB00393', 'DB00421', 'DB04920', 'DB09235', 'DB00201', 'DB00909', 'DB03904', 'DB00071', 'DB00030', 'DB00129', 'DB06616', 'DB04272', 'DB01277', 'DB00523', 'DB04866', 'DB00048', 'DB00091', 'DB01254', 'DB00047', 'DB01307', 'DB09564', 'DB01309', 'DB01306', 'DB00046', 'DB01179', 'DB03754', 'DB00002', 'DB00072', 'DB09559', 'DB00317', 'DB00281', 'DB00530', 'DB05294', 'DB00279', 'DB00444', 'DB00380', 'DB00970', 'DB00773', 'DB00694', 'DB08875', 'DB05578', 'DB00398', 'DB08901', 'DB08896', 'DB09079', 'DB06626', 'DB09078', 'DB09371', 'DB00977', 'DB00655', 'DB01708', 'DB00947', 'DB00882', 'DB00648', 'DB01196', 'DB01357', 'DB00396', 'DB00783', 'DB06202', 'DB00286', 'DB00823', 'DB06710', 'DB01108', 'DB00367', 'DB11619', 'DB01431', 'DB00539', 'DB04575', 'DB01183', 'DB00675', 'DB00957', 'DB04938', 'estropipate', 'DB01406', 'DB00304', 'DB01185', 'DB06401', 'DB13943', 'DB09070', 'DB01065', 'DB00481', 'DB00603', 'DB00890', 'DB00624', 'DB00255', 'DB13954', 'DB01109', 'DB00039', 'neridronic-acid', 'DB00884', 'DB00630', 'DB00282', 'minodronic-acid', 'DB00399', 'DB00710', 'DB00070', 'DB01034', 'DB01083', 'DB00339', 'DB09517', 'DB00893', 'DB05099', 'DB00015', 'DB00031', 'DB11571', 'DB11572', 'DB00364', 'DB00029', 'DB00009', 'DB00635', 'DB01234', 'DB00663', 'fludrocortisone-acetate', 'DB00741', 'DB01410', 'DB00596', 'DB00620', 'megestrol-acetate', 'DB00324', 'DB00687', 'DB00223', 'dexamethasone-sodium-phosphate', 'DB00443', 'methylprednisolone-aceponate', 'cortisone', 'DB00860', 'prednisolone-acetate', 'fluocinolone-acetonide', 'DB00873', 'DB00588', 'hydrocortisone-butyrate', 'DB01260', 'DB00896', 'DB00547', 'DB01380', 'DB00838', 'DB08867', 'DB00288', 'DB08906', 'DB00351', 'DB00764', 'DB01013', 'prednisolone-sodium-phosphate', 'DB00180', 'hydrocortisone-phosphate', 'clobetasone-butyrate', 'DB00591', 'DB00240', 'DB00834', 'DB01047', 'DB01222', 'DB06786', 'DB00959', 'DB01130', 'DB00253', 'DB00394', 'DB09091', 'DB00846', 'DB11824', 'DB00945', 'DB13999', 'DB00025', 'DB00428', 'DB00241', 'DB00849', 'DB01352', 'DB00237', 'DB00306', 'DB01353', 'DB00794', 'DB00599', 'DB01174', 'DB00418', 'DB01351', 'DB00312', 'DB00142', 'DB00273', 'DB08912', 'DB00139', 'DB08818', 'hyaluronic-acid', 'DB00491', 'DB00188', 'DB08889', 'DB06372', 'thiram', 'DB08895', 'DB11817', 'DB08877', 'DB06756', 'DB01367', 'DB11581', 'DB01229', 'DB09401', 'DB12243', 'DB09213', 'DB01248', 'DB01050', 'DB08871', 'DB08814', 'DB01411', 'DB01041', 'DB00244', 'tepoxalin', 'DB00586', 'DB00744', 'DB11994', 'DB01014', 'DB00233', 'DB00795', 'DB08955', 'DB00179', 'DB01017', 'DB00939', 'DB00163', 'DB00471', 'silibinin', 'DB00514', 'DB00903', 'DB08908', 'DB06151', 'DB01592', 'arsenic-trioxide', 'DB09221', 'DB09099', 'DB00956', 'DB01192', 'DB00318', 'DB01081', 'DB00327', 'butorphanol-(+)-tartrate', 'DB00295', 'DB00193', 'DB06204', 'DB11130', 'DB06230', 'DB00844', 'DB00813', 'DB00704', 'DB09289', 'DB09272', 'DB01452', 'DB06800', 'DB00921', 'DB00647', 'DB00497', 'DB00854', 'DB00836', 'DB00611', 'DB00806', 'DB00975', 'DB00083', 'DB00126', 'DB04519', 'DB00573', 'DB01132', 'DB01393', 'DB01241', 'DB00132', 'DB01039', 'DB00328', 'DB08983', 'DB00313', 'DB09064', 'DB03017', 'DB00636', 'DB00412', 'DB13873', 'DB00159', 'DB09006', 'DB12483', 'DB09054', 'DB00851', 'DB00920', 'DB00594', 'DB06637', 'DB00482', 'DB00307', 'DB00755', 'DB00162', 'DB00210', 'DB01436', 'DB00749', 'DB00864', 'DB00877', 'zotarolimus', 'DB00337', 'DB04868', 'DB00922', 'DB01244', 'DB00831', 'DB00108', 'DB09033', 'DB00290', 'DB01349', 'DB00796', 'DB08822', 'DB09121', 'DB09053', 'DB00798', 'gentamycin', 'DB00013', 'DB03793', 'DB05016', 'DB00055', 'DB13933', 'DB13152', 'DB00100', 'L-Arginine', 'DB00125', 'DB00155', 'DB00128', 'L-Citrulline', 'DB08911', 'DB00242', 'DB00987', 'DB01280', 'DB01073', 'DB00631', 'fludarabine-phosphate', 'DB01238', 'DB00472', 'spiperone', 'DB00696', 'DB00850', 'DB00434', 'DB00589', 'DB01267', 'DB00934', 'DB00268', 'DB06153', 'DB00935', 'DB00777', 'DB01149', 'DB00458', 'DB00734', 'DB00476', 'DB00623', 'DB00543', 'DB06148', 'DB04871', 'DB00805', 'DB00420', 'DB01239', 'DB09000', 'DB00656', 'DB06594', 'DB01392', 'DB00215', 'DB01200', 'DB01403', 'DB01224', 'DB01142', 'DB08839', 'DB01186', 'DB09225', 'DB00246', 'DB01079', 'DB12163', 'DB00714', 'DB01191', 'DB09304', 'DB00247', 'DB06144', 'DB01242', 'DB00574', 'DB09014', 'DB00413', 'DB00363', 'DB00477', 'DB06713', 'DB00621', 'DB01063', 'DB01026', 'DB01395', 'DB09123', 'DB06718', 'DB08899', 'DB00984', 'DB00499', 'testosterone-enanthate', 'DB13169', 'DB09389', 'testosterone-undecanoate', 'DB00665', 'DB08804', 'DB01128', 'DB02901', 'DB01420', 'DB08604', 'DB06412', 'DB00858', 'DB01599', 'DB01016', 'DB05266', 'DB05676', 'DB00651', 'DB00131', 'DB09283', 'DB01656', 'DB01025', 'DB09273', 'DB00277', 'DB01088', 'DB01003', 'DB09039', 'DB00419', 'DB01138', 'DB01097', 'DB06287', 'DB01590', 'DB09198', 'DB00731', 'DB01067', 'DB01252', 'DB00966', 'DB00912', 'DB00717', 'DB05521', 'chlormadinone-acetate', 'DB00378', 'DB00451', 'DB00509', 'DB11324', 'DB09288', 'DB01744', 'DB00316', 'DB06774', 'DB11131', 'DB04941', 'DB09280', 'DB08820', 'DB00887', 'DB11712', 'sodium-salicylate', 'DB03619', 'DB05990', 'DB02659', 'DB01586', 'DB06777', 'DB00331', 'DB00928', 'DB01262', 'DB06176', 'DB05015', 'DB02546', 'DB06603', 'DB04115', 'DB00206', 'DB00583', 'DB11560', 'DB01356', 'DB00141', 'DB01382', 'DB00222', 'DB00839', 'DB00414', 'DB00350', 'DB01124', 'DB01303', 'DB01223', 'DB00227', 'DB00608', 'DB01611', 'DB00982', 'DB04942', 'DB00799', 'DB00157', 'DB00727', 'DB00325', 'DB04899', 'DB00883', 'DB08883', 'DB00228', 'DB00606', 'DB00627', 'DB01176', 'DB00133', 'DB00114', 'DB00151', 'DB00118', 'DB00143', 'DB00720', 'DB00811', 'DB00173', 'DB00323', 'DB11632', 'DB00494', 'DB00515', 'DB00768', 'DB00145', 'DB00628', 'DB00842', 'DB00801', 'DB00690', 'DB00404', 'DB00292', 'DB09118', 'DB01558', 'DB01588', 'DB01107', 'DB00349', 'DB00463', 'DB00546', 'DB00189', 'DB00475', 'DB01215', 'DB01956', 'DB01589', 'DB00186', 'DB00371', 'DB00897', 'DB00683', 'DB00829', 'DB01595', 'DB01437', 'DB00659', 'DB00818', 'DB00402', 'DB01068', 'DB11582', 'DB00231', 'DB01698', 'DB00905', 'DB00770', 'DB00819', 'DB00130', 'DB00148', 'DB00993', 'DB01033', 'DB00607', 'DB01140', 'DB01032', 'DB01212', 'DB01060', 'DB00493', 'cyclosporin-a', 'DB09220', 'DB01110', 'DB00102', 'DB00170', 'DB01394', 'DB00361', 'DB04845', 'DB00063', 'DB00775', 'DB00054', 'DB00448', 'DB00637', 'DB00020', 'bucladesine', 'DB02701', 'DB09074', 'DB00570', 'DB01029', 'DB08868', 'DB06819', 'DB13165', 'DB04865', 'DB08881', 'DB00642', 'DB00997', 'epalrestat', 'DB00605', 'sodium-monofluorophosphate', 'DB00688', 'DB01024', 'DB00352', 'DB01104', 'DB00445', 'ethanolamine-oleate', 'DB01197', 'DB04743', 'DB00174', 'DB02772', 'DB08873', 'DB00119', 'DB00115', 'DB00200', 'DB00181', 'DB00216', 'DB00669', 'DB00998', 'DB00315', 'DB00953', 'DB09286', 'DB00952', 'DB00918', 'DB00904', 'fluphenazine-decanoate', 'DB00320', 'DB04842', 'DB01253', 'DB00784', 'DB13167', 'DB01397', 'DB00991', 'DB09217', 'DB00154', 'DB00461', 'DB08910', 'DB13217', 'DB00814', 'DB01628', 'DB00936', 'DB00500', 'DB00712', 'DB01009', 'DB12233', 'DB00788', 'DB06736', 'flurbiprofen-(S)-(+)', 'DB06725', 'DB01401', 'DB01399', 'DB00469', 'DB01283', 'DB11071', 'deracoxib', 'DB00580', 'bendazac', 'ufenamate', 'DB00963', 'DB00821', 'DB08984', 'DB09212', 'DB00480', 'DB01435', 'DB01404', 'DB00533', 'amtolmetin-guacil', 'DB00554', 'DB13783', 'DB04552', 'DB00812', 'DB01600', 'ibuprofen-lysine', 'DB00861', 'DB12545', 'DB01078', 'DB01077', 'DB09131', 'DB09568', 'DB01296', 'DB06674', 'DB00065', 'DB00005', 'DB08904', 'DB00051', 'DB04951', 'DB01427', 'DB00808', 'DB04953', 'DB00040', 'DB00541', 'DB00925', 'DB04841', 'DB00527', 'DB01100', 'DB01429', 'DB01069', 'DB04216', 'DB00752', 'DB01015', 'DB00615', 'DB00716', 'DB00121', 'DB00503', 'DB00951', 'DB00374', 'DB00356', 'DB00740', 'DB00158', 'DB00641', 'DB05239', 'DB00677', 'DB00988', 'DB00780', 'DB09241', 'DB08907', 'DB09038', 'DB06292', 'DB01243', 'DB00652', 'DB00454', 'DB01209', 'budipine', 'DB00949', 'DB01043', 'DB04896', 'DB09481', 'cycloserine-(d)', 'DB01173', 'DB00289', 'DB01396', 'DB00511', 'DB01430', 'DB01378', 'DB01119', 'DB13996', 'DB06697', 'DB01158', 'DB00390', 'DB00774', 'DB01092', 'DB01021', 'DB01188', 'DB00204', 'DB00384', 'DB05541', 'DB00252', 'DB00999', 'DB00391', 'DB00869', 'DB00703', 'DB00562', 'DB01194', 'DB00311', 'DB03255', 'DB00880', 'DB00232', 'DB01144', 'DB00436', 'DB00423', 'DB01325', 'DB01031', 'DB00310', 'DB04665', 'DB00075', 'DB00695', 'DB11085', 'DB01099', 'DB01035', 'DB01278', 'fenigam', 'DB00837', 'DB02530', 'DB01080', 'DB00643', 'DB08860', 'DB01098', 'DB00175', 'DB01095', 'DB01076', 'DB00439', 'DB00626', 'DB08888', 'DB04106', 'DB00122', 'DB14006', 'DB00672', 'DB01120', 'DB01251', 'DB01219', 'DB09085', 'DB11748', 'DB00107', 'DB00995', 'DB00309', 'DB01005', 'DB00441', 'DB05260', 'DB00761', 'DB08961', 'DB02925', 'DB09036', 'DB06273', 'DB11767', 'DB01074', 'DB00176', 'DB00199', 'DB00280', 'DB06217', 'DB00457', 'DB12082', 'DB00590', 'DB00604', 'DB01162', 'DB00908', 'DB12364', 'DB00679', 'DB00276', 'DB01211', 'DB00455', 'DB00342', 'DB00537', 'DB01195', 'DB00044', 'DB00014', 'DB09126', 'DB00097', 'DB06719', 'DB00032', 'DB00433', 'DB05271', 'DB09223', 'DB11274', 'DB08922', 'DB00450', 'DB00875', 'DB06684', 'DB01235', 'DB01184', 'DB00502', 'DB12478', 'haloperidol-decanoate', 'DB06016', 'DB06288', 'nemonapride', 'DB04946', 'clebopride', 'DB09097', 'DB01624', 'DB12867', 'DB09128', 'DB08815', 'DB00372', 'DB00508', 'DB01618', 'DB01621', 'DB01233', 'DB01622', 'DB00662', 'DB12401', 'r(-)-apomorphine', 'DB00915', 'DB01623', 'DB09018', 'DB04924', 'DB04844', 'DB01425', 'DB00933', 'DB00800', 'DB00297', 'DB09083', 'DB00026', 'DB07477', 'DB00379', 'DB00338', 'DB08995', 'DB00682', 'DB01220', 'DB13179', 'DB00754', 'DB00531', 'DB01181', 'DB00564', 'DB01045', 'DB09035', 'DB09037', 'DB00146', 'falecalcitriol', 'DB00910', 'DB06410', 'DB02300', 'DB00136', 'DB00169', 'DB13689', 'DB01070', 'DB00153', 'DB06272', 'DB01206', 'DB00042', 'DB00017', 'DB00250', 'DB00440', 'DB06813', 'DB00563', 'DB01157', 'DB00640', 'DB00824', 'DB11757', 'DB04932', 'DB06213', 'DB01412', 'DB01036', 'DB00185', 'DB04843', 'DB11235', 'aceclidine', 'DB00517', 'DB00424', 'DB00462', 'DB01062', 'DB00340', 'DB01085', 'DB00715', 'DB01409', 'DB09167', 'DB00376', 'DB00747', 'DB03128', 'DB00411', 'DB00383', 'DB08897', 'vinburnine', 'DB01591', 'DB00505', 'DB09262', 'DB00804', 'DB06702', 'DB01231', 'DB00670', 'DB06709', 'DB00809', 'DB00387', 'DB00332', 'trepibutone', 'DB00771', 'DB11181', 'DB00986', 'DB00572', 'DB00729', 'DB09076', 'DB00782', 'DB00810', 'DB00725', 'DB01019', 'diphemanil', 'DB00835', 'DB00496', 'DB01625', 'DB00036', 'DB09332', 'DB06439', 'DB04878', 'DB00284', 'DB00674', 'DB01483', 'DB00657', 'DB01199', 'DB01164', 'DB00052', 'DB00082', 'DB08879', 'DB00112', 'DB01270', 'DB08885', 'DB09047', 'DB01059', 'DB00978', 'DB01165', 'DB01177', 'DB00685', 'DB04576', 'DB00385', 'DB01204', 'DB04967', 'DB01208', 'DB01137', 'DB00467', 'DB06193', 'DB00218', 'DB04898', 'dabigatran-etexilate', 'DB06695', 'DB00001', 'DB12598', 'dabigatran', 'DB09109', 'DB00006', 'DB11166', 'DB09228', 'DB05777', 'DB00513', 'DB08932', 'DB06403', 'DB00559', 'DB06268', 'ACT-132577', 'DB00092', 'DB09016', 'DB00843', 'DB00924', 'DB08810', 'DB00751', 'DB04838', 'DB00360', 'DB00579', 'DB01105', 'DB01156', 'DB00285', 'DB00937', 'DB01146', 'DB06700', 'DB01576', 'DB00745', 'DB00865', 'benztropine-mesylate', 'DB06701', 'DB01255', 'DB00245', 'DB06413', 'DB00422', 'DB01175', 'DB00830', 'DB01577', 'DB01114', 'DB00191', 'DB01202', 'DB06694', 'DB00706', 'DB09205', 'DB01579', 'DB00211', 'DB06707', 'DB00692', 'DB00575', 'DB00298', 'DB00723', 'DB00388', 'DB00862', 'DB00203', 'DB00207', 'DB06716', 'DB00425', 'DB00120', 'DB05630', 'DB01030', 'SN-38', 'DB00762', 'DB00853', 'DB00686', 'DB00069', 'DB00068', 'DB00008', 'DB00060', 'DB00105', 'DB00034', 'DB00022', 'DB00822', 'DB00738', 'DB09075', 'DB06605', 'DB09258', 'DB01225', 'DB06228', 'DB00569', 'DB00262', 'DB09140', 'DB09270', 'DB00435', 'DB00150', 'DB00759', 'DB11157', 'DB00117', 'DB00254', 'DB12159', 'meldonium', 'DB09026', 'DB00212', 'DB09046', 'DB00787', 'tebipenem', 'DB11059', 'DB01281', 'DB11363', 'DB00012', 'DB00016', 'DB09107', 'DB08894', 'DB09030', 'DB00086', 'DB00028', 'sodium-tetradecyl-sulfate', 'DB00464', 'DB01257', 'DB00004', 'DB00041', 'DB05311', 'DB00110', 'DB00081', 'DB00073', 'DB00095', 'DB00087', 'DB00056', 'DB00078', 'DB00707', 'DB08811', 'DB06809', 'DB00452', 'DB06218', 'DB00776', 'DB09119', 'DB01121', 'DB00532', 'DB06201', 'DB01133', 'DB06692', 'DB09108', 'DB06152', 'adiphenine', 'DB08941', 'DB01274', 'DB00867', 'DB01364', 'DB12248', 'DB09082', 'DB00449', 'DB01366', 'DB08957', 'DB01408', 'DB00816', 'DB09080', 'DB09204', 'DB00099', 'DB12863', 'DB00033', 'DB01271', 'DB01279', 'camostat-mesilate', 'DB12831', 'DB12023', 'DB08870', 'DB09331', 'DB00302', 'DB06689', 'DB00104', 'DB04894', 'DB06663', 'DB06791', 'DB04895', 'DB04465', 'DB00266', 'DB08828', 'DB09143', 'DB06271', 'DB09067', 'DB01839', 'DB09310', 'acefylline', 'etofylline', 'DB06285', 'DB05829', 'DB11696', 'DB09292', 'mozavaptan', 'DB02638', 'DB00035', 'DB06212', 'DB09059', 'DB00872', 'DB00067', 'desmopressin-acetate', 'DB00357', 'DB00876', 'DB00177', 'DB00678', 'DB00275', 'DB09279', 'DB13919', 'DB00094', 'DB00066', 'DB00914', 'DB00980', 'DB00415', 'DB09049', 'DB00504', 'DB00552', 'DB01143', 'DB01285', 'DB00561', 'DB11699', 'DB05332', 'DB11995', 'DB06210', 'flopropione', 'DB09244', 'DB01616', 'DB12833', 'DB06196', 'icatibant-acetate', 'DB08918', 'DB00344', 'DB00906', 'DB00093', 'DB01250', 'DB06211', 'DB01597', 'DB05679', 'DB11834', 'DB03085', 'DB00043', 'DB00446', 'DB12865', 'DB00994', 'DB01012', 'strontium-ranelate', 'DB00673', 'maropitant', 'DB09048', 'DB06717', 'DB00484', 'DB00697', 'DB01018', 'DB00964', 'DB00629', 'DB00968', 'DB00797', 'DB00167', 'DB00392', 'DB06243', 'DB00545', 'DB00382', 'DB01122', 'DB00989', 'DB01400', 'DB00944', 'DB00981', 'DB00733', 'pralidoxime-chloride', 'DB12153', 'DB01010', 'methylene-blue', 'DB00863', 'DB03852', 'DB09043', 'DB06655', 'DB13928', 'DB09045', 'DB09265', 'DB01276', 'DB00403', 'DB01438', 'DB00868', 'DB01426', 'DB00192', 'DB00680', 'DB01056', 'DB01320', 'DB00645', 'DB00243', 'DB01228', 'DB00024', 'ephedrine-(racemic)', 'DB06711', 'DB08890', 'DB01057', 'DB11614', 'DB09166', 'DB01011', 'DB05812', 'DB01090', 'DB11136', 'DB00395', 'DB06264', 'DB00916', 'DB01201', 'DB00553', 'DB06290', 'DB00300', 'DB00976', 'DB13036', 'DB06739', 'picotamide', 'DB11629', 'DB01207', 'DB05389', 'DB12095', 'telotristat-ethyl', 'DB00765', 'DB01198', 'DB08986', 'DB00962', 'DB06470', 'taltirelin', 'DB04931', 'DB01020', 'DB09282', 'DB08931', 'DB06168', 'DB09029', 'DB04876', 'DB01261', 'DB11950', 'DB08882', 'DB06335', 'DB12417', 'DB06203', 'trelagliptin', 'DB04572', 'DB01232', 'DB01609', 'DB11742', 'DB01333', 'DB01263', 'DB01082', '5-hydroxytryptophan', 'DB00593', 'DB00617', 'DB05246', 'DB00832', 'DB00347', 'DB09215', 'mofezolac', 'DB06219', 'thiostrepton', 'DB01075', 'DB01148', 'caramiphen', 'DB08801', 'DB09418', 'DB14061', 'DB11635', 'DB01275', 'DB00400', 'DB09146', 'DB06775', 'DB08835', 'DB11081', 'DB06720', 'DB01113', 'DB12319', 'DB12947', 'ftorafur', 'DB00650', 'DB00544', 'DB01101', 'DB00293', 'DB00322', 'DB09010', 'DB00432', 'DB00691', 'DB00722', 'DB00535', 'bifemelane', 'DB01037', 'DB00601', 'DB01626', 'DB09245', 'DB01247', 'DB01171', 'psoralen', 'DB01168', 'DB01046', 'DB01216', 'DB01126', 'DB00152', 'DB00610', 'DB00699', 'buflomedil', 'DB12230', 'adrenalone', 'DB06706', 'DB09040', 'DB00196', 'DB01167', 'DB00123', 'DB00165', 'DB00147', 'DB00235', 'DB01166', 'DB09516', 'DB00600', 'azelaic-acid', 'DB00548', 'DB09526', 'DB01440', 'sodium-oxybate', 'DB00973', 'DB00138', 'DB01170', 'DB04840', 'DB00234', 'DB09185', 'DB00226', 'DB00161', 'DB11362', 'DB00929', 'DB01240', 'chlorogenic-acid', 'DB00917', 'DB12836', 'DB09034', 'DB09069', 'DB00724', 'penfluridol', 'DB09343', 'DB01327', 'DB01089', 'DB06714', 'DB01125', 'DB01022', 'DB11656', 'DB11753', 'DB00551', 'DB01117', 'DB08880', 'DB00528', 'DB00498', 'DB01418', 'DB00946', 'DB12017', 'DB00010', 'DB08869', 'levocarnitine-propionate', 'DB11595', 'DB00437', 'DB04854', 'DB01685', 'DB09302', 'DB04880', 'pimobendan', 'olprinone', 'DB00261', 'DB00847', 'DB06317', 'DB11783', 'DB00790', 'DB00542', 'DB00492', 'DB01340', 'DB00584', 'quinaprilat', 'DB09477', 'DB08836', 'DB00881', 'DB01348', 'DB00519', 'DB00178', 'DB05351', 'DB00213', 'revaprazan', 'omeprazole-magnesium', 'DB01129', 'DB00736', 'phosphatidylcholine', 'DB06654', 'DB06824', 'DB00348', 'DB00857', 'DB08992', 'DB00190', 'DB12783', 'melevodopa', 'DB07615', 'DB09271', 'aminopentamide', 'DB00209', 'DB00940', 'pipenzolate', 'DB12554', 'DB00979', 'DB00942', 'piperidolate', 'DB00366', 'DB00654', 'DB00287', 'DB08819', 'DB11660', 'DB00587', 'DB00549', 'DB06754', 'DB11598', 'DB01265', 'DB06155', 'DB00501', 'ipragliflozin-l-proline', 'DB11827', 'DB00713', 'DB01053', 'tannic-acid', 'DB00950', 'DB00985', 'DB00405', 'DB08802', 'DB11591', 'DB06282', 'DB01106', 'DB01237', 'DB00902', 'DB00719', 'DB01246', 'DB04890', 'DB08800', 'DB00967', 'DB00748', 'DB09555', 'DB01620', 'DB00557', 'DB00341', 'DB12523', 'DB01619', 'DB01084', 'DB08799', 'DB00283', 'DB00427', 'DB00737', 'DB08936', 'DB00885', 'DB00972', 'DB01071', 'DB09488', 'DB06766', 'DB01615', 'DB06691', 'DB04837', 'DB00792', 'ammonium-lactate', 'DB08826', 'DB09290', 'DB00757', 'DB00889', 'DB00969', 'DB00377', 'DB00417', 'DB00848', 'DB00894', 'DB01006', 'DB00990', 'DB01217', 'DB00666', 'DB00106', 'DB06788', 'DB06785', 'DB00644', 'DB06699', 'DB06825', 'DB00007', 'DB00820', 'DB06237', 'DB11792', 'DB06267', 'DB00214', 'DB00038', 'DB01284', 'DB08816', 'DB00758', 'DB06209', 'DB00208', 'DB06441', 'DB00470', 'DB06764', 'DB06479', 'DB01282', 'DB06643', 'DB00700', 'DB09015', 'desoxycorticosterone-pivalate', 'DB01086', 'DB11988', 'DB06650', 'DB08935', 'DB00550', 'DB00389', 'DB00763', 'xipamide', 'DB01324', 'DB00524', 'DB00429', 'DB06480', 'DB11675', 'DB06688', 'DB05265', 'DB08806', 'DB00927', 'DB00585'])"
      ]
     },
     "execution_count": 3,
     "metadata": {},
     "output_type": "execute_result"
    }
   ],
   "source": [
    "drug_id2name.keys()"
   ]
  },
  {
   "cell_type": "code",
   "execution_count": 6,
   "metadata": {},
   "outputs": [],
   "source": [
    "msi_drug_list = list(drug_id2name.keys())"
   ]
  },
  {
   "cell_type": "code",
   "execution_count": 4,
   "metadata": {},
   "outputs": [],
   "source": [
    "dcdb_dual = pd.read_csv('ori_labels/DCDB_dual.tsv', sep='\\t')\n",
    "c_dcdb_dual = pd.read_csv('ori_labels/C_DCDB_dual.tsv', sep='\\t')"
   ]
  },
  {
   "cell_type": "code",
   "execution_count": 8,
   "metadata": {},
   "outputs": [
    {
     "name": "stdout",
     "output_type": "stream",
     "text": [
      "Original combination count: 754\n",
      "Common combination count: 584\n"
     ]
    }
   ],
   "source": [
    "count = 0\n",
    "for row in dcdb_dual.iterrows():\n",
    "    a, b = row[1][0], row[1][1]\n",
    "    if a in msi_drug_list and b in msi_drug_list:\n",
    "        count += 1\n",
    "print(f'Original combination count: {len(dcdb_dual)}')\n",
    "print(f'Common combination count: {count}')"
   ]
  },
  {
   "cell_type": "code",
   "execution_count": 9,
   "metadata": {},
   "outputs": [
    {
     "name": "stdout",
     "output_type": "stream",
     "text": [
      "Original combination count: 9092\n",
      "Common combination count: 4221\n"
     ]
    }
   ],
   "source": [
    "count = 0\n",
    "for row in c_dcdb_dual.iterrows():\n",
    "    a, b = row[1][0], row[1][1]\n",
    "    if a in msi_drug_list and b in msi_drug_list:\n",
    "        count += 1\n",
    "print(f'Original combination count: {len(c_dcdb_dual)}')\n",
    "print(f'Common combination count: {count}')"
   ]
  },
  {
   "cell_type": "code",
   "execution_count": 10,
   "metadata": {},
   "outputs": [],
   "source": [
    "dcdb_dual[dcdb_dual['drug_1'].isin(msi_drug_list) & dcdb_dual['drug_2'].isin(msi_drug_list)].to_csv('MSI/data/labels/DCDB_msi.tsv', sep='\\t', index=None)"
   ]
  },
  {
   "cell_type": "code",
   "execution_count": 11,
   "metadata": {},
   "outputs": [],
   "source": [
    "c_dcdb_dual[c_dcdb_dual['drug_1'].isin(msi_drug_list) & c_dcdb_dual['drug_2'].isin(msi_drug_list)].to_csv('MSI/data/labels/C_DCDB_msi.tsv', sep='\\t', index=None)"
   ]
  }
 ],
 "metadata": {
  "kernelspec": {
   "display_name": "Python 3.10.4 ('ayn')",
   "language": "python",
   "name": "python3"
  },
  "language_info": {
   "codemirror_mode": {
    "name": "ipython",
    "version": 3
   },
   "file_extension": ".py",
   "mimetype": "text/x-python",
   "name": "python",
   "nbconvert_exporter": "python",
   "pygments_lexer": "ipython3",
   "version": "3.10.4"
  },
  "orig_nbformat": 4,
  "vscode": {
   "interpreter": {
    "hash": "c4698125b34f9b3056e7b596654ef06bea4fe54a8b707ab96252cf01711dc60f"
   }
  }
 },
 "nbformat": 4,
 "nbformat_minor": 2
}
