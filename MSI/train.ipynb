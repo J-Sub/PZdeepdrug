{
 "cells": [
  {
   "cell_type": "code",
   "execution_count": 1,
   "metadata": {},
   "outputs": [],
   "source": [
    "import torch\n",
    "import numpy as np\n",
    "import pandas as pd\n",
    "import os\n",
    "import random\n",
    "from pathlib import Path\n",
    "\n",
    "import torch.nn as nn\n",
    "from torch.utils.data import Dataset, DataLoader\n",
    "import torch.nn.functional as F\n",
    "from torchmetrics import AUROC, Accuracy, Precision, Recall\n",
    "from torchmetrics.classification import BinaryAUROC, BinaryF1Score\n",
    "\n",
    "from sklearn.metrics import accuracy_score, recall_score, precision_score, f1_score, roc_auc_score, average_precision_score\n",
    "\n",
    "import pickle\n",
    "from load_msi_data import LoadData\n",
    "from model import CombNet, CombNetSupCon\n",
    "from dataset import CombinationDataset\n",
    "from loss import SupConLoss"
   ]
  },
  {
   "cell_type": "code",
   "execution_count": 2,
   "metadata": {},
   "outputs": [],
   "source": [
    "SEED = 42\n",
    "def seed_everything(seed):\n",
    "    random.seed(seed)\n",
    "    os.environ['PYTHONHASHSEED'] = str(seed)\n",
    "    np.random.seed(seed)\n",
    "    torch.manual_seed(seed)\n",
    "    torch.cuda.manual_seed(seed)\n",
    "    torch.backends.cudnn.deterministic = True\n",
    "    torch.backends.cudnn.benchmark = True\n",
    "seed_everything(SEED)"
   ]
  },
  {
   "cell_type": "markdown",
   "metadata": {},
   "source": [
    "## Prepare dataset"
   ]
  },
  {
   "cell_type": "code",
   "execution_count": 3,
   "metadata": {},
   "outputs": [
    {
     "name": "stdout",
     "output_type": "stream",
     "text": [
      "Processing dataset...\n",
      "Saving dataset...\n",
      "Loading dataset...data/processed/C_DCDB_neg1_dup0_ddi0_None_seed42.pt\n",
      "Dictionary of {train, valid, test} dataset is loaded.\n",
      "3\n"
     ]
    }
   ],
   "source": [
    "'''\n",
    "argument of CombinationDataset\n",
    "- database: str, default='C_DCDB' ['C_DCDB', 'DCDB', 'DC_combined']\n",
    "- neg_ratio: int, default=1\n",
    "- duplicate: bool, default=False (if True, duplicate each samples) -> [a, b] & [b, a]\n",
    "- use_ddi: bool, default=False (if True, use ddi dataset)\n",
    "- ddi_dataset: str, default=None (if use_ddi is True, choose ddi dataset) ['DB', 'TWOSIDES']\n",
    "- seed: int, default=42\n",
    "'''\n",
    "# without ddi\n",
    "dataset = CombinationDataset(database='C_DCDB', neg_ratio=1, duplicate=False, seed=SEED)\n",
    "print(len(dataset))\n",
    "\n",
    "# with ddi\n",
    "# dataset = CombinationDataset(database='C_DCDB', neg_ratio=1, duplicate=False, use_ddi=True, ddi_dataset='DB', seed=SEED)\n",
    "# print(len(dataset))"
   ]
  },
  {
   "cell_type": "code",
   "execution_count": 4,
   "metadata": {},
   "outputs": [],
   "source": [
    "train_dataset, valid_dataset, test_dataset = dataset.data['train'], dataset.data['valid'], dataset.data['test']\n",
    "\n",
    "train_loader = DataLoader(train_dataset, batch_size=32, shuffle=True, drop_last=True)\n",
    "valid_loader = DataLoader(valid_dataset, batch_size=32, shuffle=True)\n",
    "test_loader = DataLoader(test_dataset, batch_size=32, shuffle=False)"
   ]
  },
  {
   "cell_type": "markdown",
   "metadata": {},
   "source": [
    "## Training"
   ]
  },
  {
   "cell_type": "code",
   "execution_count": 5,
   "metadata": {},
   "outputs": [],
   "source": [
    "def train_cross_entropy(model, device, train_loader, criterion, optimizer, metric_list=[accuracy_score]):\n",
    "\n",
    "    # train\n",
    "    model.train()\n",
    "    train_loss = 0\n",
    "\n",
    "    target_list = []\n",
    "    pred_list = []\n",
    "    for batch_idx, (data, target) in enumerate(train_loader):\n",
    "        data, target = data.to(device), target.float().to(device)\n",
    "        optimizer.zero_grad()\n",
    "        output = model(data).view(-1) # z\n",
    "        # print(output)\n",
    "        loss = criterion(output, target) # z, y\n",
    "        loss.backward()\n",
    "        optimizer.step()\n",
    "        train_loss += loss.item()\n",
    "        pred_list.append(torch.sigmoid(output).detach().cpu().numpy())\n",
    "        target_list.append(target.long().detach().cpu().numpy())\n",
    "    \n",
    "    # metric\n",
    "    scores = []\n",
    "    for metric in metric_list:\n",
    "        if (metric == roc_auc_score) or (metric == average_precision_score):\n",
    "            scores.append(metric(np.concatenate(target_list), np.concatenate(pred_list)))\n",
    "        else: # accuracy_score, f1_score, precision_score, recall_score\n",
    "            scores.append(metric(np.concatenate(target_list), np.concatenate(pred_list).round()))\n",
    "    \n",
    "    return train_loss / (batch_idx + 1), scores"
   ]
  },
  {
   "cell_type": "code",
   "execution_count": 6,
   "metadata": {},
   "outputs": [],
   "source": [
    "def evaluate(model, device, loader, criterion, metric_list=[accuracy_score], checkpoint=None):\n",
    "    # evaluate\n",
    "    if checkpoint is not None:\n",
    "        model.load_state_dict(torch.load(checkpoint))\n",
    "    model.eval()\n",
    "    eval_loss = 0\n",
    "\n",
    "    target_list = []\n",
    "    pred_list = []\n",
    "    with torch.no_grad():\n",
    "        for batch_idx, (data, target) in enumerate(loader):\n",
    "            data, target = data.to(device), target.float().to(device)\n",
    "            output = model(data).view(-1)\n",
    "            eval_loss += criterion(output, target).item()\n",
    "            pred_list.append(torch.sigmoid(output).detach().cpu().numpy())\n",
    "            target_list.append(target.long().detach().cpu().numpy())\n",
    "\n",
    "    scores = []\n",
    "    for metric in metric_list:\n",
    "        if (metric == roc_auc_score) or (metric == average_precision_score):\n",
    "            scores.append(metric(np.concatenate(target_list), np.concatenate(pred_list)))\n",
    "        else: # accuracy_score, f1_score, precision_score, recall_score\n",
    "            scores.append(metric(np.concatenate(target_list), np.concatenate(pred_list).round()))\n",
    "    return eval_loss / (batch_idx + 1), scores"
   ]
  },
  {
   "cell_type": "code",
   "execution_count": 7,
   "metadata": {},
   "outputs": [],
   "source": [
    "def main():\n",
    "    input_dim = train_dataset[0][0].shape[0]\n",
    "    hidden_dim = input_dim\n",
    "    output_dim = 1\n",
    "    print('input_dim: {}, hidden_dim: {}, output_dim: {}'.format(input_dim, hidden_dim, output_dim))\n",
    "    model = CombNet(input_dim, hidden_dim, output_dim, comb_type='cat')\n",
    "\n",
    "    EPOCHS = 100\n",
    "    LR = 0.001\n",
    "    device = torch.device('cuda' if torch.cuda.is_available() else 'cpu')\n",
    "    model.to(device)\n",
    "    criterion = nn.BCEWithLogitsLoss()\n",
    "    optimizer = torch.optim.Adam(model.parameters(), lr=LR, weight_decay=1e-5)\n",
    "\n",
    "    best_valid_loss = float('inf')\n",
    "    for epoch in range(EPOCHS):\n",
    "        train_loss, train_scores = train_cross_entropy(model, device, train_loader, criterion, optimizer, metric_list=[accuracy_score, roc_auc_score, f1_score, average_precision_score])\n",
    "        valid_loss, valid_scores = evaluate(model, device, valid_loader, criterion, metric_list=[accuracy_score, roc_auc_score, f1_score, average_precision_score])\n",
    "        if valid_loss < best_valid_loss:\n",
    "            best_valid_loss = valid_loss\n",
    "            torch.save(model.state_dict(), 'checkpoint.pt')\n",
    "        print(f'Epoch {epoch+1:03d}: | Train Loss: {train_loss:.4f} | Train Acc: {train_scores[0]*100:.2f}% | Train AUROC: {train_scores[1]:.2f} | Train F1: {train_scores[2]:.4f} | Train AUPRC: {train_scores[3]:.2f} || Val. Loss: {valid_loss:.4f} | Val. Acc: {valid_scores[0]*100:.2f}% | Val. AUROC: {valid_scores[1]:.2f} | Val. F1: {valid_scores[2]:.4f} | Val. AUPRC: {valid_scores[3]:.2f}')\n",
    "    \n",
    "    test_loss, test_scores = evaluate(model, device, test_loader, criterion, metric_list=[accuracy_score, roc_auc_score, f1_score, average_precision_score], checkpoint='checkpoint.pt')\n",
    "    print(f'Test Loss: {test_loss:.4f} | Test Acc: {test_scores[0]*100:.2f}% | Test AUROC: {test_scores[1]:.2f} | Test F1: {test_scores[2]:.4f} | Test AUPRC: {test_scores[3]:.2f}')\n",
    "    return model"
   ]
  },
  {
   "cell_type": "code",
   "execution_count": 8,
   "metadata": {},
   "outputs": [
    {
     "name": "stdout",
     "output_type": "stream",
     "text": [
      "input_dim: 256, hidden_dim: 256, output_dim: 1\n",
      "Epoch 001: | Train Loss: 0.5806 | Train Acc: 69.96% | Train AUROC: 0.76 | Train F1: 0.6926 | Train AUPRC: 0.77 || Val. Loss: 0.5001 | Val. Acc: 75.47% | Val. AUROC: 0.83 | Val. F1: 0.7640 | Val. AUPRC: 0.85\n",
      "Epoch 002: | Train Loss: 0.4655 | Train Acc: 78.54% | Train AUROC: 0.86 | Train F1: 0.7829 | Train AUPRC: 0.87 || Val. Loss: 0.4736 | Val. Acc: 76.54% | Val. AUROC: 0.86 | Val. F1: 0.7775 | Val. AUPRC: 0.87\n",
      "Epoch 003: | Train Loss: 0.4133 | Train Acc: 81.07% | Train AUROC: 0.89 | Train F1: 0.8078 | Train AUPRC: 0.89 || Val. Loss: 0.4878 | Val. Acc: 76.78% | Val. AUROC: 0.85 | Val. F1: 0.7747 | Val. AUPRC: 0.85\n",
      "Epoch 004: | Train Loss: 0.3820 | Train Acc: 82.76% | Train AUROC: 0.91 | Train F1: 0.8261 | Train AUPRC: 0.91 || Val. Loss: 0.4736 | Val. Acc: 79.15% | Val. AUROC: 0.87 | Val. F1: 0.7934 | Val. AUPRC: 0.87\n",
      "Epoch 005: | Train Loss: 0.3493 | Train Acc: 84.33% | Train AUROC: 0.93 | Train F1: 0.8423 | Train AUPRC: 0.93 || Val. Loss: 0.5045 | Val. Acc: 76.78% | Val. AUROC: 0.87 | Val. F1: 0.7963 | Val. AUPRC: 0.87\n",
      "Epoch 006: | Train Loss: 0.3239 | Train Acc: 85.81% | Train AUROC: 0.94 | Train F1: 0.8576 | Train AUPRC: 0.94 || Val. Loss: 0.4689 | Val. Acc: 79.62% | Val. AUROC: 0.87 | Val. F1: 0.8076 | Val. AUPRC: 0.88\n",
      "Epoch 007: | Train Loss: 0.3002 | Train Acc: 87.29% | Train AUROC: 0.95 | Train F1: 0.8724 | Train AUPRC: 0.95 || Val. Loss: 0.5202 | Val. Acc: 77.25% | Val. AUROC: 0.86 | Val. F1: 0.7966 | Val. AUPRC: 0.87\n",
      "Epoch 008: | Train Loss: 0.2759 | Train Acc: 88.40% | Train AUROC: 0.95 | Train F1: 0.8838 | Train AUPRC: 0.95 || Val. Loss: 0.5342 | Val. Acc: 78.20% | Val. AUROC: 0.86 | Val. F1: 0.7956 | Val. AUPRC: 0.86\n",
      "Epoch 009: | Train Loss: 0.2618 | Train Acc: 88.88% | Train AUROC: 0.96 | Train F1: 0.8884 | Train AUPRC: 0.96 || Val. Loss: 0.5428 | Val. Acc: 78.44% | Val. AUROC: 0.86 | Val. F1: 0.7987 | Val. AUPRC: 0.86\n",
      "Epoch 010: | Train Loss: 0.2433 | Train Acc: 89.97% | Train AUROC: 0.96 | Train F1: 0.8995 | Train AUPRC: 0.96 || Val. Loss: 0.5414 | Val. Acc: 79.98% | Val. AUROC: 0.87 | Val. F1: 0.8165 | Val. AUPRC: 0.87\n",
      "Epoch 011: | Train Loss: 0.2302 | Train Acc: 90.65% | Train AUROC: 0.97 | Train F1: 0.9067 | Train AUPRC: 0.97 || Val. Loss: 0.5219 | Val. Acc: 79.38% | Val. AUROC: 0.87 | Val. F1: 0.8096 | Val. AUPRC: 0.87\n",
      "Epoch 012: | Train Loss: 0.2074 | Train Acc: 91.42% | Train AUROC: 0.97 | Train F1: 0.9142 | Train AUPRC: 0.98 || Val. Loss: 0.5668 | Val. Acc: 78.08% | Val. AUROC: 0.87 | Val. F1: 0.7991 | Val. AUPRC: 0.87\n",
      "Epoch 013: | Train Loss: 0.1909 | Train Acc: 92.22% | Train AUROC: 0.98 | Train F1: 0.9222 | Train AUPRC: 0.98 || Val. Loss: 0.5584 | Val. Acc: 78.08% | Val. AUROC: 0.87 | Val. F1: 0.7866 | Val. AUPRC: 0.87\n",
      "Epoch 014: | Train Loss: 0.1850 | Train Acc: 92.30% | Train AUROC: 0.98 | Train F1: 0.9229 | Train AUPRC: 0.98 || Val. Loss: 0.5606 | Val. Acc: 79.50% | Val. AUROC: 0.87 | Val. F1: 0.8041 | Val. AUPRC: 0.87\n",
      "Epoch 015: | Train Loss: 0.1684 | Train Acc: 93.50% | Train AUROC: 0.98 | Train F1: 0.9350 | Train AUPRC: 0.98 || Val. Loss: 0.5635 | Val. Acc: 80.33% | Val. AUROC: 0.87 | Val. F1: 0.8151 | Val. AUPRC: 0.87\n",
      "Epoch 016: | Train Loss: 0.1675 | Train Acc: 93.51% | Train AUROC: 0.98 | Train F1: 0.9353 | Train AUPRC: 0.98 || Val. Loss: 0.5779 | Val. Acc: 80.09% | Val. AUROC: 0.88 | Val. F1: 0.8178 | Val. AUPRC: 0.87\n",
      "Epoch 017: | Train Loss: 0.1514 | Train Acc: 94.11% | Train AUROC: 0.99 | Train F1: 0.9411 | Train AUPRC: 0.99 || Val. Loss: 0.6253 | Val. Acc: 79.38% | Val. AUROC: 0.87 | Val. F1: 0.8096 | Val. AUPRC: 0.86\n",
      "Epoch 018: | Train Loss: 0.1509 | Train Acc: 94.36% | Train AUROC: 0.99 | Train F1: 0.9436 | Train AUPRC: 0.99 || Val. Loss: 0.5976 | Val. Acc: 78.91% | Val. AUROC: 0.87 | Val. F1: 0.7986 | Val. AUPRC: 0.87\n",
      "Epoch 019: | Train Loss: 0.1359 | Train Acc: 94.61% | Train AUROC: 0.99 | Train F1: 0.9459 | Train AUPRC: 0.99 || Val. Loss: 0.5974 | Val. Acc: 78.91% | Val. AUROC: 0.87 | Val. F1: 0.8000 | Val. AUPRC: 0.87\n",
      "Epoch 020: | Train Loss: 0.1275 | Train Acc: 95.08% | Train AUROC: 0.99 | Train F1: 0.9508 | Train AUPRC: 0.99 || Val. Loss: 0.6216 | Val. Acc: 78.32% | Val. AUROC: 0.88 | Val. F1: 0.7991 | Val. AUPRC: 0.87\n",
      "Epoch 021: | Train Loss: 0.1288 | Train Acc: 95.11% | Train AUROC: 0.99 | Train F1: 0.9512 | Train AUPRC: 0.99 || Val. Loss: 0.6044 | Val. Acc: 80.45% | Val. AUROC: 0.88 | Val. F1: 0.8169 | Val. AUPRC: 0.88\n",
      "Epoch 022: | Train Loss: 0.1173 | Train Acc: 95.70% | Train AUROC: 0.99 | Train F1: 0.9570 | Train AUPRC: 0.99 || Val. Loss: 0.6678 | Val. Acc: 79.98% | Val. AUROC: 0.87 | Val. F1: 0.8157 | Val. AUPRC: 0.86\n",
      "Epoch 023: | Train Loss: 0.1205 | Train Acc: 95.25% | Train AUROC: 0.99 | Train F1: 0.9526 | Train AUPRC: 0.99 || Val. Loss: 0.6867 | Val. Acc: 79.03% | Val. AUROC: 0.87 | Val. F1: 0.8111 | Val. AUPRC: 0.87\n",
      "Epoch 024: | Train Loss: 0.1091 | Train Acc: 96.03% | Train AUROC: 0.99 | Train F1: 0.9602 | Train AUPRC: 0.99 || Val. Loss: 0.6570 | Val. Acc: 79.98% | Val. AUROC: 0.88 | Val. F1: 0.8153 | Val. AUPRC: 0.87\n",
      "Epoch 025: | Train Loss: 0.1049 | Train Acc: 95.94% | Train AUROC: 0.99 | Train F1: 0.9593 | Train AUPRC: 0.99 || Val. Loss: 0.7216 | Val. Acc: 78.55% | Val. AUROC: 0.88 | Val. F1: 0.8124 | Val. AUPRC: 0.88\n",
      "Epoch 026: | Train Loss: 0.1135 | Train Acc: 95.60% | Train AUROC: 0.99 | Train F1: 0.9560 | Train AUPRC: 0.99 || Val. Loss: 0.6465 | Val. Acc: 79.98% | Val. AUROC: 0.88 | Val. F1: 0.8128 | Val. AUPRC: 0.87\n",
      "Epoch 027: | Train Loss: 0.0983 | Train Acc: 96.58% | Train AUROC: 0.99 | Train F1: 0.9657 | Train AUPRC: 0.99 || Val. Loss: 0.6908 | Val. Acc: 78.67% | Val. AUROC: 0.87 | Val. F1: 0.7982 | Val. AUPRC: 0.87\n",
      "Epoch 028: | Train Loss: 0.0968 | Train Acc: 96.16% | Train AUROC: 0.99 | Train F1: 0.9616 | Train AUPRC: 0.99 || Val. Loss: 0.7214 | Val. Acc: 79.27% | Val. AUROC: 0.88 | Val. F1: 0.8120 | Val. AUPRC: 0.87\n",
      "Epoch 029: | Train Loss: 0.1027 | Train Acc: 96.28% | Train AUROC: 0.99 | Train F1: 0.9627 | Train AUPRC: 0.99 || Val. Loss: 0.7490 | Val. Acc: 79.62% | Val. AUROC: 0.88 | Val. F1: 0.8158 | Val. AUPRC: 0.87\n",
      "Epoch 030: | Train Loss: 0.0943 | Train Acc: 96.52% | Train AUROC: 0.99 | Train F1: 0.9652 | Train AUPRC: 0.99 || Val. Loss: 0.6784 | Val. Acc: 79.86% | Val. AUROC: 0.88 | Val. F1: 0.8111 | Val. AUPRC: 0.88\n",
      "Epoch 031: | Train Loss: 0.0902 | Train Acc: 96.70% | Train AUROC: 1.00 | Train F1: 0.9669 | Train AUPRC: 1.00 || Val. Loss: 0.7174 | Val. Acc: 78.79% | Val. AUROC: 0.87 | Val. F1: 0.8056 | Val. AUPRC: 0.87\n",
      "Epoch 032: | Train Loss: 0.0885 | Train Acc: 96.67% | Train AUROC: 1.00 | Train F1: 0.9666 | Train AUPRC: 1.00 || Val. Loss: 0.7442 | Val. Acc: 80.45% | Val. AUROC: 0.87 | Val. F1: 0.8181 | Val. AUPRC: 0.86\n",
      "Epoch 033: | Train Loss: 0.0845 | Train Acc: 96.89% | Train AUROC: 1.00 | Train F1: 0.9689 | Train AUPRC: 1.00 || Val. Loss: 0.7401 | Val. Acc: 80.33% | Val. AUROC: 0.87 | Val. F1: 0.8188 | Val. AUPRC: 0.86\n",
      "Epoch 034: | Train Loss: 0.0758 | Train Acc: 97.39% | Train AUROC: 1.00 | Train F1: 0.9739 | Train AUPRC: 1.00 || Val. Loss: 0.7730 | Val. Acc: 80.45% | Val. AUROC: 0.87 | Val. F1: 0.8152 | Val. AUPRC: 0.86\n",
      "Epoch 035: | Train Loss: 0.0758 | Train Acc: 97.35% | Train AUROC: 1.00 | Train F1: 0.9735 | Train AUPRC: 1.00 || Val. Loss: 0.7458 | Val. Acc: 80.81% | Val. AUROC: 0.88 | Val. F1: 0.8220 | Val. AUPRC: 0.86\n",
      "Epoch 036: | Train Loss: 0.0778 | Train Acc: 97.25% | Train AUROC: 1.00 | Train F1: 0.9725 | Train AUPRC: 1.00 || Val. Loss: 0.6742 | Val. Acc: 81.16% | Val. AUROC: 0.88 | Val. F1: 0.8223 | Val. AUPRC: 0.89\n",
      "Epoch 037: | Train Loss: 0.0757 | Train Acc: 97.41% | Train AUROC: 1.00 | Train F1: 0.9741 | Train AUPRC: 1.00 || Val. Loss: 0.7718 | Val. Acc: 78.91% | Val. AUROC: 0.87 | Val. F1: 0.8031 | Val. AUPRC: 0.87\n",
      "Epoch 038: | Train Loss: 0.0777 | Train Acc: 97.23% | Train AUROC: 1.00 | Train F1: 0.9723 | Train AUPRC: 1.00 || Val. Loss: 0.7015 | Val. Acc: 81.28% | Val. AUROC: 0.88 | Val. F1: 0.8205 | Val. AUPRC: 0.89\n",
      "Epoch 039: | Train Loss: 0.0742 | Train Acc: 97.36% | Train AUROC: 1.00 | Train F1: 0.9737 | Train AUPRC: 1.00 || Val. Loss: 0.7918 | Val. Acc: 79.27% | Val. AUROC: 0.87 | Val. F1: 0.8066 | Val. AUPRC: 0.87\n",
      "Epoch 040: | Train Loss: 0.0765 | Train Acc: 97.29% | Train AUROC: 1.00 | Train F1: 0.9729 | Train AUPRC: 1.00 || Val. Loss: 0.7897 | Val. Acc: 80.09% | Val. AUROC: 0.88 | Val. F1: 0.8178 | Val. AUPRC: 0.88\n",
      "Epoch 041: | Train Loss: 0.0735 | Train Acc: 97.30% | Train AUROC: 1.00 | Train F1: 0.9730 | Train AUPRC: 1.00 || Val. Loss: 0.7717 | Val. Acc: 81.40% | Val. AUROC: 0.87 | Val. F1: 0.8242 | Val. AUPRC: 0.87\n",
      "Epoch 042: | Train Loss: 0.0716 | Train Acc: 97.14% | Train AUROC: 1.00 | Train F1: 0.9714 | Train AUPRC: 1.00 || Val. Loss: 0.7877 | Val. Acc: 79.74% | Val. AUROC: 0.87 | Val. F1: 0.8115 | Val. AUPRC: 0.86\n",
      "Epoch 043: | Train Loss: 0.0661 | Train Acc: 97.67% | Train AUROC: 1.00 | Train F1: 0.9767 | Train AUPRC: 1.00 || Val. Loss: 0.7799 | Val. Acc: 79.86% | Val. AUROC: 0.88 | Val. F1: 0.8140 | Val. AUPRC: 0.88\n",
      "Epoch 044: | Train Loss: 0.0689 | Train Acc: 97.53% | Train AUROC: 1.00 | Train F1: 0.9753 | Train AUPRC: 1.00 || Val. Loss: 0.7617 | Val. Acc: 80.45% | Val. AUROC: 0.88 | Val. F1: 0.8106 | Val. AUPRC: 0.88\n",
      "Epoch 045: | Train Loss: 0.0718 | Train Acc: 97.35% | Train AUROC: 1.00 | Train F1: 0.9735 | Train AUPRC: 1.00 || Val. Loss: 0.8329 | Val. Acc: 79.86% | Val. AUROC: 0.87 | Val. F1: 0.8090 | Val. AUPRC: 0.87\n",
      "Epoch 046: | Train Loss: 0.0622 | Train Acc: 97.75% | Train AUROC: 1.00 | Train F1: 0.9774 | Train AUPRC: 1.00 || Val. Loss: 0.7809 | Val. Acc: 79.62% | Val. AUROC: 0.88 | Val. F1: 0.8114 | Val. AUPRC: 0.88\n",
      "Epoch 047: | Train Loss: 0.0626 | Train Acc: 97.75% | Train AUROC: 1.00 | Train F1: 0.9775 | Train AUPRC: 1.00 || Val. Loss: 0.8420 | Val. Acc: 79.15% | Val. AUROC: 0.88 | Val. F1: 0.8087 | Val. AUPRC: 0.88\n",
      "Epoch 048: | Train Loss: 0.0544 | Train Acc: 98.12% | Train AUROC: 1.00 | Train F1: 0.9812 | Train AUPRC: 1.00 || Val. Loss: 0.8156 | Val. Acc: 80.09% | Val. AUROC: 0.87 | Val. F1: 0.8150 | Val. AUPRC: 0.86\n",
      "Epoch 049: | Train Loss: 0.0577 | Train Acc: 98.07% | Train AUROC: 1.00 | Train F1: 0.9808 | Train AUPRC: 1.00 || Val. Loss: 0.8303 | Val. Acc: 80.57% | Val. AUROC: 0.87 | Val. F1: 0.8198 | Val. AUPRC: 0.87\n",
      "Epoch 050: | Train Loss: 0.0652 | Train Acc: 97.47% | Train AUROC: 1.00 | Train F1: 0.9747 | Train AUPRC: 1.00 || Val. Loss: 0.7941 | Val. Acc: 80.09% | Val. AUROC: 0.88 | Val. F1: 0.8091 | Val. AUPRC: 0.87\n",
      "Epoch 051: | Train Loss: 0.0600 | Train Acc: 97.85% | Train AUROC: 1.00 | Train F1: 0.9785 | Train AUPRC: 1.00 || Val. Loss: 0.8972 | Val. Acc: 80.09% | Val. AUROC: 0.87 | Val. F1: 0.8162 | Val. AUPRC: 0.87\n",
      "Epoch 052: | Train Loss: 0.0616 | Train Acc: 97.54% | Train AUROC: 1.00 | Train F1: 0.9754 | Train AUPRC: 1.00 || Val. Loss: 0.8580 | Val. Acc: 79.03% | Val. AUROC: 0.87 | Val. F1: 0.8031 | Val. AUPRC: 0.86\n",
      "Epoch 053: | Train Loss: 0.0536 | Train Acc: 98.06% | Train AUROC: 1.00 | Train F1: 0.9806 | Train AUPRC: 1.00 || Val. Loss: 0.8381 | Val. Acc: 80.33% | Val. AUROC: 0.87 | Val. F1: 0.8168 | Val. AUPRC: 0.87\n",
      "Epoch 054: | Train Loss: 0.0547 | Train Acc: 97.94% | Train AUROC: 1.00 | Train F1: 0.9794 | Train AUPRC: 1.00 || Val. Loss: 0.8794 | Val. Acc: 79.62% | Val. AUROC: 0.88 | Val. F1: 0.8134 | Val. AUPRC: 0.87\n",
      "Epoch 055: | Train Loss: 0.0645 | Train Acc: 97.54% | Train AUROC: 1.00 | Train F1: 0.9754 | Train AUPRC: 1.00 || Val. Loss: 0.9066 | Val. Acc: 80.81% | Val. AUROC: 0.88 | Val. F1: 0.8262 | Val. AUPRC: 0.86\n",
      "Epoch 056: | Train Loss: 0.0512 | Train Acc: 98.02% | Train AUROC: 1.00 | Train F1: 0.9802 | Train AUPRC: 1.00 || Val. Loss: 0.8782 | Val. Acc: 80.92% | Val. AUROC: 0.87 | Val. F1: 0.8259 | Val. AUPRC: 0.86\n",
      "Epoch 057: | Train Loss: 0.0502 | Train Acc: 98.19% | Train AUROC: 1.00 | Train F1: 0.9820 | Train AUPRC: 1.00 || Val. Loss: 0.8682 | Val. Acc: 79.27% | Val. AUROC: 0.87 | Val. F1: 0.8000 | Val. AUPRC: 0.87\n",
      "Epoch 058: | Train Loss: 0.0589 | Train Acc: 97.75% | Train AUROC: 1.00 | Train F1: 0.9775 | Train AUPRC: 1.00 || Val. Loss: 0.8664 | Val. Acc: 80.33% | Val. AUROC: 0.87 | Val. F1: 0.8156 | Val. AUPRC: 0.87\n",
      "Epoch 059: | Train Loss: 0.0616 | Train Acc: 97.72% | Train AUROC: 1.00 | Train F1: 0.9772 | Train AUPRC: 1.00 || Val. Loss: 0.9060 | Val. Acc: 78.20% | Val. AUROC: 0.87 | Val. F1: 0.7987 | Val. AUPRC: 0.85\n",
      "Epoch 060: | Train Loss: 0.0480 | Train Acc: 98.40% | Train AUROC: 1.00 | Train F1: 0.9840 | Train AUPRC: 1.00 || Val. Loss: 0.9603 | Val. Acc: 79.27% | Val. AUROC: 0.87 | Val. F1: 0.8092 | Val. AUPRC: 0.86\n",
      "Epoch 061: | Train Loss: 0.0501 | Train Acc: 98.10% | Train AUROC: 1.00 | Train F1: 0.9811 | Train AUPRC: 1.00 || Val. Loss: 0.9741 | Val. Acc: 79.27% | Val. AUROC: 0.87 | Val. F1: 0.8087 | Val. AUPRC: 0.85\n",
      "Epoch 062: | Train Loss: 0.0626 | Train Acc: 97.63% | Train AUROC: 1.00 | Train F1: 0.9763 | Train AUPRC: 1.00 || Val. Loss: 0.9590 | Val. Acc: 79.50% | Val. AUROC: 0.87 | Val. F1: 0.8105 | Val. AUPRC: 0.86\n",
      "Epoch 063: | Train Loss: 0.0563 | Train Acc: 98.00% | Train AUROC: 1.00 | Train F1: 0.9800 | Train AUPRC: 1.00 || Val. Loss: 0.8703 | Val. Acc: 79.86% | Val. AUROC: 0.87 | Val. F1: 0.8081 | Val. AUPRC: 0.87\n",
      "Epoch 064: | Train Loss: 0.0491 | Train Acc: 98.47% | Train AUROC: 1.00 | Train F1: 0.9847 | Train AUPRC: 1.00 || Val. Loss: 0.8996 | Val. Acc: 79.27% | Val. AUROC: 0.87 | Val. F1: 0.8092 | Val. AUPRC: 0.87\n",
      "Epoch 065: | Train Loss: 0.0545 | Train Acc: 97.96% | Train AUROC: 1.00 | Train F1: 0.9796 | Train AUPRC: 1.00 || Val. Loss: 1.0062 | Val. Acc: 75.95% | Val. AUROC: 0.86 | Val. F1: 0.7786 | Val. AUPRC: 0.84\n",
      "Epoch 066: | Train Loss: 0.0518 | Train Acc: 98.10% | Train AUROC: 1.00 | Train F1: 0.9810 | Train AUPRC: 1.00 || Val. Loss: 0.9945 | Val. Acc: 80.09% | Val. AUROC: 0.87 | Val. F1: 0.8170 | Val. AUPRC: 0.86\n",
      "Epoch 067: | Train Loss: 0.0511 | Train Acc: 98.21% | Train AUROC: 1.00 | Train F1: 0.9821 | Train AUPRC: 1.00 || Val. Loss: 0.9041 | Val. Acc: 79.38% | Val. AUROC: 0.86 | Val. F1: 0.8058 | Val. AUPRC: 0.85\n",
      "Epoch 068: | Train Loss: 0.0511 | Train Acc: 98.33% | Train AUROC: 1.00 | Train F1: 0.9833 | Train AUPRC: 1.00 || Val. Loss: 0.8632 | Val. Acc: 78.91% | Val. AUROC: 0.88 | Val. F1: 0.8040 | Val. AUPRC: 0.88\n",
      "Epoch 069: | Train Loss: 0.0475 | Train Acc: 98.50% | Train AUROC: 1.00 | Train F1: 0.9850 | Train AUPRC: 1.00 || Val. Loss: 0.8605 | Val. Acc: 79.27% | Val. AUROC: 0.88 | Val. F1: 0.7967 | Val. AUPRC: 0.88\n",
      "Epoch 070: | Train Loss: 0.0414 | Train Acc: 98.49% | Train AUROC: 1.00 | Train F1: 0.9849 | Train AUPRC: 1.00 || Val. Loss: 0.8919 | Val. Acc: 79.98% | Val. AUROC: 0.88 | Val. F1: 0.8116 | Val. AUPRC: 0.87\n",
      "Epoch 071: | Train Loss: 0.0440 | Train Acc: 98.56% | Train AUROC: 1.00 | Train F1: 0.9856 | Train AUPRC: 1.00 || Val. Loss: 0.9647 | Val. Acc: 78.32% | Val. AUROC: 0.87 | Val. F1: 0.7969 | Val. AUPRC: 0.86\n",
      "Epoch 072: | Train Loss: 0.0422 | Train Acc: 98.44% | Train AUROC: 1.00 | Train F1: 0.9845 | Train AUPRC: 1.00 || Val. Loss: 0.9365 | Val. Acc: 79.74% | Val. AUROC: 0.88 | Val. F1: 0.8094 | Val. AUPRC: 0.87\n",
      "Epoch 073: | Train Loss: 0.0534 | Train Acc: 97.99% | Train AUROC: 1.00 | Train F1: 0.9799 | Train AUPRC: 1.00 || Val. Loss: 0.9168 | Val. Acc: 79.98% | Val. AUROC: 0.87 | Val. F1: 0.8103 | Val. AUPRC: 0.87\n",
      "Epoch 074: | Train Loss: 0.0399 | Train Acc: 98.56% | Train AUROC: 1.00 | Train F1: 0.9856 | Train AUPRC: 1.00 || Val. Loss: 0.9668 | Val. Acc: 80.69% | Val. AUROC: 0.88 | Val. F1: 0.8222 | Val. AUPRC: 0.87\n",
      "Epoch 075: | Train Loss: 0.0428 | Train Acc: 98.37% | Train AUROC: 1.00 | Train F1: 0.9837 | Train AUPRC: 1.00 || Val. Loss: 0.9687 | Val. Acc: 80.09% | Val. AUROC: 0.88 | Val. F1: 0.8142 | Val. AUPRC: 0.87\n",
      "Epoch 076: | Train Loss: 0.0483 | Train Acc: 98.25% | Train AUROC: 1.00 | Train F1: 0.9825 | Train AUPRC: 1.00 || Val. Loss: 0.9274 | Val. Acc: 79.86% | Val. AUROC: 0.87 | Val. F1: 0.8128 | Val. AUPRC: 0.87\n",
      "Epoch 077: | Train Loss: 0.0419 | Train Acc: 98.37% | Train AUROC: 1.00 | Train F1: 0.9837 | Train AUPRC: 1.00 || Val. Loss: 0.9244 | Val. Acc: 80.33% | Val. AUROC: 0.88 | Val. F1: 0.8156 | Val. AUPRC: 0.88\n",
      "Epoch 078: | Train Loss: 0.0513 | Train Acc: 98.33% | Train AUROC: 1.00 | Train F1: 0.9832 | Train AUPRC: 1.00 || Val. Loss: 0.9135 | Val. Acc: 80.33% | Val. AUROC: 0.88 | Val. F1: 0.8143 | Val. AUPRC: 0.88\n",
      "Epoch 079: | Train Loss: 0.0495 | Train Acc: 98.18% | Train AUROC: 1.00 | Train F1: 0.9818 | Train AUPRC: 1.00 || Val. Loss: 0.8973 | Val. Acc: 80.33% | Val. AUROC: 0.88 | Val. F1: 0.8180 | Val. AUPRC: 0.87\n",
      "Epoch 080: | Train Loss: 0.0444 | Train Acc: 98.46% | Train AUROC: 1.00 | Train F1: 0.9846 | Train AUPRC: 1.00 || Val. Loss: 0.8565 | Val. Acc: 80.33% | Val. AUROC: 0.88 | Val. F1: 0.8135 | Val. AUPRC: 0.88\n",
      "Epoch 081: | Train Loss: 0.0511 | Train Acc: 98.18% | Train AUROC: 1.00 | Train F1: 0.9818 | Train AUPRC: 1.00 || Val. Loss: 1.0405 | Val. Acc: 78.08% | Val. AUROC: 0.87 | Val. F1: 0.8051 | Val. AUPRC: 0.87\n",
      "Epoch 082: | Train Loss: 0.0423 | Train Acc: 98.43% | Train AUROC: 1.00 | Train F1: 0.9843 | Train AUPRC: 1.00 || Val. Loss: 0.9593 | Val. Acc: 79.86% | Val. AUROC: 0.87 | Val. F1: 0.8156 | Val. AUPRC: 0.87\n",
      "Epoch 083: | Train Loss: 0.0397 | Train Acc: 98.56% | Train AUROC: 1.00 | Train F1: 0.9857 | Train AUPRC: 1.00 || Val. Loss: 0.9320 | Val. Acc: 80.92% | Val. AUROC: 0.87 | Val. F1: 0.8205 | Val. AUPRC: 0.88\n",
      "Epoch 084: | Train Loss: 0.0426 | Train Acc: 98.52% | Train AUROC: 1.00 | Train F1: 0.9852 | Train AUPRC: 1.00 || Val. Loss: 0.9315 | Val. Acc: 80.21% | Val. AUROC: 0.88 | Val. F1: 0.8163 | Val. AUPRC: 0.88\n",
      "Epoch 085: | Train Loss: 0.0424 | Train Acc: 98.37% | Train AUROC: 1.00 | Train F1: 0.9837 | Train AUPRC: 1.00 || Val. Loss: 0.9527 | Val. Acc: 79.62% | Val. AUROC: 0.87 | Val. F1: 0.8093 | Val. AUPRC: 0.86\n",
      "Epoch 086: | Train Loss: 0.0418 | Train Acc: 98.58% | Train AUROC: 1.00 | Train F1: 0.9858 | Train AUPRC: 1.00 || Val. Loss: 0.9360 | Val. Acc: 80.09% | Val. AUROC: 0.87 | Val. F1: 0.8121 | Val. AUPRC: 0.87\n",
      "Epoch 087: | Train Loss: 0.0408 | Train Acc: 98.50% | Train AUROC: 1.00 | Train F1: 0.9850 | Train AUPRC: 1.00 || Val. Loss: 0.9997 | Val. Acc: 79.98% | Val. AUROC: 0.88 | Val. F1: 0.8153 | Val. AUPRC: 0.87\n",
      "Epoch 088: | Train Loss: 0.0408 | Train Acc: 98.59% | Train AUROC: 1.00 | Train F1: 0.9860 | Train AUPRC: 1.00 || Val. Loss: 0.9103 | Val. Acc: 80.69% | Val. AUROC: 0.88 | Val. F1: 0.8158 | Val. AUPRC: 0.87\n",
      "Epoch 089: | Train Loss: 0.0397 | Train Acc: 98.52% | Train AUROC: 1.00 | Train F1: 0.9852 | Train AUPRC: 1.00 || Val. Loss: 0.9327 | Val. Acc: 80.33% | Val. AUROC: 0.88 | Val. F1: 0.8164 | Val. AUPRC: 0.87\n",
      "Epoch 090: | Train Loss: 0.0376 | Train Acc: 98.68% | Train AUROC: 1.00 | Train F1: 0.9868 | Train AUPRC: 1.00 || Val. Loss: 0.9376 | Val. Acc: 79.86% | Val. AUROC: 0.88 | Val. F1: 0.8140 | Val. AUPRC: 0.87\n",
      "Epoch 091: | Train Loss: 0.0370 | Train Acc: 98.62% | Train AUROC: 1.00 | Train F1: 0.9862 | Train AUPRC: 1.00 || Val. Loss: 0.9541 | Val. Acc: 80.21% | Val. AUROC: 0.88 | Val. F1: 0.8142 | Val. AUPRC: 0.87\n",
      "Epoch 092: | Train Loss: 0.0338 | Train Acc: 98.84% | Train AUROC: 1.00 | Train F1: 0.9885 | Train AUPRC: 1.00 || Val. Loss: 0.9507 | Val. Acc: 81.16% | Val. AUROC: 0.88 | Val. F1: 0.8231 | Val. AUPRC: 0.87\n",
      "Epoch 093: | Train Loss: 0.0338 | Train Acc: 98.90% | Train AUROC: 1.00 | Train F1: 0.9890 | Train AUPRC: 1.00 || Val. Loss: 0.9586 | Val. Acc: 78.55% | Val. AUROC: 0.87 | Val. F1: 0.8018 | Val. AUPRC: 0.87\n",
      "Epoch 094: | Train Loss: 0.0394 | Train Acc: 98.70% | Train AUROC: 1.00 | Train F1: 0.9870 | Train AUPRC: 1.00 || Val. Loss: 0.9664 | Val. Acc: 80.57% | Val. AUROC: 0.88 | Val. F1: 0.8174 | Val. AUPRC: 0.88\n",
      "Epoch 095: | Train Loss: 0.0389 | Train Acc: 98.61% | Train AUROC: 1.00 | Train F1: 0.9861 | Train AUPRC: 1.00 || Val. Loss: 0.9705 | Val. Acc: 80.45% | Val. AUROC: 0.88 | Val. F1: 0.8220 | Val. AUPRC: 0.88\n",
      "Epoch 096: | Train Loss: 0.0432 | Train Acc: 98.50% | Train AUROC: 1.00 | Train F1: 0.9851 | Train AUPRC: 1.00 || Val. Loss: 0.9979 | Val. Acc: 81.40% | Val. AUROC: 0.88 | Val. F1: 0.8295 | Val. AUPRC: 0.87\n",
      "Epoch 097: | Train Loss: 0.0427 | Train Acc: 98.43% | Train AUROC: 1.00 | Train F1: 0.9843 | Train AUPRC: 1.00 || Val. Loss: 0.9400 | Val. Acc: 80.69% | Val. AUROC: 0.87 | Val. F1: 0.8195 | Val. AUPRC: 0.87\n",
      "Epoch 098: | Train Loss: 0.0377 | Train Acc: 98.52% | Train AUROC: 1.00 | Train F1: 0.9852 | Train AUPRC: 1.00 || Val. Loss: 1.0392 | Val. Acc: 79.86% | Val. AUROC: 0.87 | Val. F1: 0.8156 | Val. AUPRC: 0.86\n",
      "Epoch 099: | Train Loss: 0.0378 | Train Acc: 98.62% | Train AUROC: 1.00 | Train F1: 0.9862 | Train AUPRC: 1.00 || Val. Loss: 0.9540 | Val. Acc: 81.28% | Val. AUROC: 0.88 | Val. F1: 0.8225 | Val. AUPRC: 0.87\n",
      "Epoch 100: | Train Loss: 0.0388 | Train Acc: 98.52% | Train AUROC: 1.00 | Train F1: 0.9852 | Train AUPRC: 1.00 || Val. Loss: 0.9886 | Val. Acc: 81.28% | Val. AUROC: 0.87 | Val. F1: 0.8260 | Val. AUPRC: 0.86\n",
      "Test Loss: 0.4923 | Test Acc: 76.92% | Test AUROC: 0.87 | Test F1: 0.7692 | Test AUPRC: 0.87\n"
     ]
    }
   ],
   "source": [
    "model = main()"
   ]
  },
  {
   "cell_type": "markdown",
   "metadata": {},
   "source": [
    "|Positive : Negative ratio|F1 score|AUPRC score|\n",
    "|-----|-----|-----|\n",
    "|1:1|0.79|0.87| \n",
    "|1:2|0.74|0.83|\n",
    "|1:3|0.68|0.77|\n",
    "|1:6|0.66|0.74|"
   ]
  },
  {
   "cell_type": "markdown",
   "metadata": {},
   "source": [
    "class imbalance 문제를 좀 개선하는 방법이 있으면 그걸 novelty로 추가?"
   ]
  }
 ],
 "metadata": {
  "kernelspec": {
   "display_name": "Python 3.10.4 ('ayn')",
   "language": "python",
   "name": "python3"
  },
  "language_info": {
   "codemirror_mode": {
    "name": "ipython",
    "version": 3
   },
   "file_extension": ".py",
   "mimetype": "text/x-python",
   "name": "python",
   "nbconvert_exporter": "python",
   "pygments_lexer": "ipython3",
   "version": "3.10.4"
  },
  "orig_nbformat": 4,
  "vscode": {
   "interpreter": {
    "hash": "c4698125b34f9b3056e7b596654ef06bea4fe54a8b707ab96252cf01711dc60f"
   }
  }
 },
 "nbformat": 4,
 "nbformat_minor": 2
}
