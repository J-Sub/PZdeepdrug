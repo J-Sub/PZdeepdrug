{
 "cells": [
  {
   "cell_type": "code",
   "execution_count": 1,
   "metadata": {},
   "outputs": [],
   "source": [
    "from load_data import LoadData\n",
    "from get_diffusion import Diffusion\n",
    "\n",
    "import pandas as pd"
   ]
  },
  {
   "cell_type": "code",
   "execution_count": 3,
   "metadata": {},
   "outputs": [],
   "source": [
    "dataloader = LoadData()\n",
    "diffusion = Diffusion()\n",
    "\n",
    "protein_id2name, protein_name2id = dataloader.get_dict(type='protein')\n",
    "drug_id2name, drug_name2id = dataloader.get_dict(type='drug')\n",
    "indication_id2name, indication_name2id = dataloader.get_dict(type='indication')\n",
    "biof_id2name, biof_name2id = dataloader.get_dict(type='biological_function')\n",
    "\n",
    "ind2ptn = pd.read_csv('data/raw/2_indication_to_protein.tsv', sep='\\t')\n",
    "drug2ptn = pd.read_csv('data/raw/1_drug_to_protein.tsv', sep='\\t')\n",
    "ptn2biof = pd.read_csv('data/raw/4_protein_to_biological_function.tsv', sep='\\t')\n",
    "biof2biof = pd.read_csv('data/raw/5_biological_function_to_biological_function.tsv', sep='\\t')"
   ]
  },
  {
   "cell_type": "markdown",
   "metadata": {},
   "source": [
    "### PPI network에서만 coverage 확인 (Gene Ontology term 제외)\n",
    "\n",
    "여기서 coverage란?\n",
    "- 어떤 entity (indication 또는 drug)와 연관있는 protein의 집합들이 서로 얼마나 겹치는지 check하는 것."
   ]
  },
  {
   "cell_type": "code",
   "execution_count": 5,
   "metadata": {},
   "outputs": [],
   "source": [
    "# naive하게 indication 1개와 두 drug의 PPI network coverage 계산\n",
    "def compute_coverage_naive(ind, drug1, drug2):\n",
    "    ind_id = indication_name2id[ind]\n",
    "    drug1_id = drug_name2id[drug1]\n",
    "    drug2_id = drug_name2id[drug2]\n",
    "    ind_ptn = ind2ptn[ind2ptn['node_1'] == ind_id]['node_2'].tolist()\n",
    "    drug1_ptn = drug2ptn[drug2ptn['node_1'] == drug1_id]['node_2'].tolist()\n",
    "    drug2_ptn = drug2ptn[drug2ptn['node_1'] == drug2_id]['node_2'].tolist()\n",
    "    return len(set(ind_ptn) & set(drug1_ptn)), len(set(ind_ptn) & set(drug2_ptn)), len(set(drug1_ptn) & set(drug2_ptn))"
   ]
  },
  {
   "cell_type": "code",
   "execution_count": 6,
   "metadata": {},
   "outputs": [],
   "source": [
    "# diffusion profile 상에서, top k개의 node를 가지고 coverage 계산\n",
    "def compute_coverage_diff(ind, drug1, drug2, k=10):\n",
    "    ind_id = indication_name2id[ind]\n",
    "    ind_top_k = diffusion.rank_top_k_nodes(prof=diffusion.get_prof(id_=ind_id), k=k)\n",
    "    drug1_id = drug_name2id[drug1]\n",
    "    drug1_top_k = diffusion.rank_top_k_nodes(prof=diffusion.get_prof(id_=drug1_id), k=k)\n",
    "    drug2_id = drug_name2id[drug2]\n",
    "    drug2_top_k = diffusion.rank_top_k_nodes(prof=diffusion.get_prof(id_=drug2_id), k=k)\n",
    "    return len(set(ind_top_k) & set(drug1_top_k)), len(set(ind_top_k) & set(drug2_top_k)), len(set(drug1_top_k) & set(drug2_top_k))"
   ]
  },
  {
   "cell_type": "code",
   "execution_count": 9,
   "metadata": {},
   "outputs": [
    {
     "data": {
      "text/plain": [
       "(1, 3, 0)"
      ]
     },
     "execution_count": 9,
     "metadata": {},
     "output_type": "execute_result"
    }
   ],
   "source": [
    "compute_coverage_naive('Hypertensive disease', 'acebutolol', 'amlodipine')"
   ]
  },
  {
   "cell_type": "code",
   "execution_count": 11,
   "metadata": {},
   "outputs": [
    {
     "data": {
      "text/plain": [
       "(0, 1, 0)"
      ]
     },
     "execution_count": 11,
     "metadata": {},
     "output_type": "execute_result"
    }
   ],
   "source": [
    "compute_coverage_diff('Hypertensive disease', 'timolol', 'hydrochlorothiazide', k=20)"
   ]
  },
  {
   "cell_type": "markdown",
   "metadata": {},
   "source": [
    "### Gene Ontology term의 coverage 확인\n",
    "\n",
    "여기서 coverage란?\n",
    "- 어떤 entity (indication 또는 drug)와 연관된 protein 집합들에 대해, 각 protein들이 연결된 GO term 집합들끼리 얼마나 겹치는지 check."
   ]
  },
  {
   "cell_type": "code",
   "execution_count": 12,
   "metadata": {},
   "outputs": [],
   "source": [
    "# Gene ontology term의 coverage 계산\n",
    "def compute_coverage_gene_ontology(ind, drug1, drug2):\n",
    "    ind_id = indication_name2id[ind]\n",
    "    drug1_id = drug_name2id[drug1]\n",
    "    drug2_id = drug_name2id[drug2]\n",
    "    ind_ptns = list(set(ind2ptn[ind2ptn['node_1'] == ind_id]['node_2'].tolist()))\n",
    "    drug1_ptns = list(set(drug2ptn[drug2ptn['node_1'] == drug1_id]['node_2'].tolist()))\n",
    "    drug2_ptns = list(set(drug2ptn[drug2ptn['node_1'] == drug2_id]['node_2'].tolist()))\n",
    "    \n",
    "    ind_gos = set(ptn2biof[ptn2biof['node_1'].isin(ind_ptns)]['node_2'].tolist())\n",
    "    drug1_gos = set(ptn2biof[ptn2biof['node_1'].isin(drug1_ptns)]['node_2'].tolist())\n",
    "    drug2_gos = set(ptn2biof[ptn2biof['node_1'].isin(drug2_ptns)]['node_2'].tolist())\n",
    "    \n",
    "    return len(set(ind_gos) & set(drug1_gos)), len(set(ind_gos) & set(drug2_gos)), len(set(drug1_gos) & set(drug2_gos))"
   ]
  },
  {
   "cell_type": "code",
   "execution_count": 14,
   "metadata": {},
   "outputs": [
    {
     "data": {
      "text/plain": [
       "(0, 5, 0)"
      ]
     },
     "execution_count": 14,
     "metadata": {},
     "output_type": "execute_result"
    }
   ],
   "source": [
    "compute_coverage_gene_ontology('hyperlipidemia', 'rosuvastatin', 'fenofibrate')"
   ]
  },
  {
   "cell_type": "code",
   "execution_count": null,
   "metadata": {},
   "outputs": [],
   "source": []
  }
 ],
 "metadata": {
  "kernelspec": {
   "display_name": "Python 3.10.4 ('ayn')",
   "language": "python",
   "name": "python3"
  },
  "language_info": {
   "codemirror_mode": {
    "name": "ipython",
    "version": 3
   },
   "file_extension": ".py",
   "mimetype": "text/x-python",
   "name": "python",
   "nbconvert_exporter": "python",
   "pygments_lexer": "ipython3",
   "version": "3.10.4"
  },
  "orig_nbformat": 4,
  "vscode": {
   "interpreter": {
    "hash": "c4698125b34f9b3056e7b596654ef06bea4fe54a8b707ab96252cf01711dc60f"
   }
  }
 },
 "nbformat": 4,
 "nbformat_minor": 2
}
