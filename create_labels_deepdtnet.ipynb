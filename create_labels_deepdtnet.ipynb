{
 "cells": [
  {
   "cell_type": "code",
   "execution_count": 1,
   "metadata": {},
   "outputs": [],
   "source": [
    "import pandas as pd\n",
    "import numpy as np\n",
    "from tqdm import tqdm"
   ]
  },
  {
   "cell_type": "markdown",
   "metadata": {},
   "source": [
    "Check common drugs between DeepDTNet data and DCDB / C_DCDB"
   ]
  },
  {
   "cell_type": "code",
   "execution_count": 2,
   "metadata": {},
   "outputs": [
    {
     "data": {
      "text/html": [
       "<div>\n",
       "<style scoped>\n",
       "    .dataframe tbody tr th:only-of-type {\n",
       "        vertical-align: middle;\n",
       "    }\n",
       "\n",
       "    .dataframe tbody tr th {\n",
       "        vertical-align: top;\n",
       "    }\n",
       "\n",
       "    .dataframe thead th {\n",
       "        text-align: right;\n",
       "    }\n",
       "</style>\n",
       "<table border=\"1\" class=\"dataframe\">\n",
       "  <thead>\n",
       "    <tr style=\"text-align: right;\">\n",
       "      <th></th>\n",
       "      <th>0</th>\n",
       "      <th>1</th>\n",
       "    </tr>\n",
       "  </thead>\n",
       "  <tbody>\n",
       "    <tr>\n",
       "      <th>0</th>\n",
       "      <td>DB00014</td>\n",
       "      <td>Goserelin</td>\n",
       "    </tr>\n",
       "    <tr>\n",
       "      <th>1</th>\n",
       "      <td>DB00035</td>\n",
       "      <td>Desmopressin</td>\n",
       "    </tr>\n",
       "    <tr>\n",
       "      <th>2</th>\n",
       "      <td>DB00050</td>\n",
       "      <td>Cetrorelix</td>\n",
       "    </tr>\n",
       "    <tr>\n",
       "      <th>3</th>\n",
       "      <td>DB00091</td>\n",
       "      <td>Cyclosporine</td>\n",
       "    </tr>\n",
       "    <tr>\n",
       "      <th>4</th>\n",
       "      <td>DB00104</td>\n",
       "      <td>Octreotide</td>\n",
       "    </tr>\n",
       "  </tbody>\n",
       "</table>\n",
       "</div>"
      ],
      "text/plain": [
       "         0             1\n",
       "0  DB00014     Goserelin\n",
       "1  DB00035  Desmopressin\n",
       "2  DB00050    Cetrorelix\n",
       "3  DB00091  Cyclosporine\n",
       "4  DB00104    Octreotide"
      ]
     },
     "execution_count": 2,
     "metadata": {},
     "output_type": "execute_result"
    }
   ],
   "source": [
    "drug_dict = pd.read_csv('DeepDTNet/data/raw/drug_dict.txt', sep=':', header=None)\n",
    "drug_list = drug_dict[0].tolist()\n",
    "drug_dict.head()"
   ]
  },
  {
   "cell_type": "code",
   "execution_count": 3,
   "metadata": {},
   "outputs": [],
   "source": [
    "dcdb_dual = pd.read_csv('ori_labels/DCDB_dual.tsv', sep='\\t')\n",
    "c_dcdb_dual = pd.read_csv('ori_labels/C_DCDB_dual.tsv', sep='\\t')"
   ]
  },
  {
   "cell_type": "code",
   "execution_count": 4,
   "metadata": {},
   "outputs": [
    {
     "name": "stdout",
     "output_type": "stream",
     "text": [
      "Original combination count: 9092\n",
      "Common combination count: 1612\n"
     ]
    }
   ],
   "source": [
    "count = 0\n",
    "for row in c_dcdb_dual.iterrows():\n",
    "    a, b = row[1][0], row[1][1]\n",
    "    if a in drug_list and b in drug_list:\n",
    "        count += 1\n",
    "print(f'Original combination count: {len(c_dcdb_dual)}')\n",
    "print(f'Common combination count: {count}')"
   ]
  },
  {
   "cell_type": "code",
   "execution_count": 5,
   "metadata": {},
   "outputs": [
    {
     "name": "stdout",
     "output_type": "stream",
     "text": [
      "Original combination count: 754\n",
      "Common combination count: 248\n"
     ]
    }
   ],
   "source": [
    "count = 0\n",
    "for row in dcdb_dual.iterrows():\n",
    "    a, b = row[1][0], row[1][1]\n",
    "    if a in drug_list and b in drug_list:\n",
    "        count += 1\n",
    "print(f'Original combination count: {len(dcdb_dual)}')\n",
    "print(f'Common combination count: {count}')"
   ]
  },
  {
   "cell_type": "code",
   "execution_count": 36,
   "metadata": {},
   "outputs": [],
   "source": [
    "dcdb_dual[dcdb_dual['drug_1'].isin(drug_list) & dcdb_dual['drug_2'].isin(drug_list)].to_csv('DeepDTNet/data/labels/DCDB_deepdtnet.tsv', sep='\\t', index=None)"
   ]
  },
  {
   "cell_type": "code",
   "execution_count": 35,
   "metadata": {},
   "outputs": [],
   "source": [
    "c_dcdb_dual[c_dcdb_dual['drug_1'].isin(drug_list) & c_dcdb_dual['drug_2'].isin(drug_list)].to_csv('DeepDTNet/data/labels/C_DCDB_deepdtnet.tsv', sep='\\t', index=None)"
   ]
  }
 ],
 "metadata": {
  "kernelspec": {
   "display_name": "Python 3.10.4 ('ayn')",
   "language": "python",
   "name": "python3"
  },
  "language_info": {
   "codemirror_mode": {
    "name": "ipython",
    "version": 3
   },
   "file_extension": ".py",
   "mimetype": "text/x-python",
   "name": "python",
   "nbconvert_exporter": "python",
   "pygments_lexer": "ipython3",
   "version": "3.10.4"
  },
  "vscode": {
   "interpreter": {
    "hash": "c4698125b34f9b3056e7b596654ef06bea4fe54a8b707ab96252cf01711dc60f"
   }
  }
 },
 "nbformat": 4,
 "nbformat_minor": 4
}
